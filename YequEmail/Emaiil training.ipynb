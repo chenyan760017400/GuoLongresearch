{
 "cells": [
  {
   "cell_type": "code",
   "execution_count": 27,
   "id": "initial_id",
   "metadata": {},
   "outputs": [
    {
     "name": "stdout",
     "output_type": "stream",
     "text": [
      "导入完成\n"
     ]
    }
   ],
   "source": [
    "import smtplib\n",
    "from email.mime.multipart import MIMEMultipart as MP, MIMEMultipart\n",
    "from email.mime.text import MIMEText as MT\n",
    "from email.header import Header as HD\n",
    "from email.mime.image import MIMEImage as MG\n",
    "print(\"导入完成\")"
   ]
  },
  {
   "cell_type": "code",
   "execution_count": 28,
   "id": "2e865d079ac1ffb4",
   "metadata": {},
   "outputs": [
    {
     "name": "stdout",
     "output_type": "stream",
     "text": [
      "登陆成功\n"
     ]
    }
   ],
   "source": [
    "#我用的是一个临时邮件 I used a Temp email\n",
    "linshiyoujian = smtplib.SMTP(\"send.smtp.dev\", 587)\n",
    "#linshiyoujian.starttls()\n",
    "mailuser=\"chenyan@abcd.com\"\n",
    "mailpass=\"741852abcD\"\n",
    "linshiyoujian.login(mailuser,mailpass)\n",
    "print(\"登陆成功\")"
   ]
  },
  {
   "cell_type": "code",
   "execution_count": 29,
   "id": "5477571966cf6c74",
   "metadata": {
    "ExecuteTime": {
     "end_time": "2025-04-25T18:40:54.197597Z",
     "start_time": "2025-04-25T18:40:54.192652Z"
    }
   },
   "outputs": [],
   "source": [
    "#设置收发人 set the sender and receiver\n",
    "sender=\"chenyan@abcd.com\"\n",
    "receiver=\"chenyan760017400@gmail.com\"\n",
    "msg = MP()\n",
    "msg[\"Subject\"] =HD(\"python测试\")\n",
    "msg[\"From\"] =HD(f\"chenyan<{sender}>\")\n",
    "msg[\"To\"] = HD(f\"沉言<{receiver}>\")"
   ]
  },
  {
   "cell_type": "code",
   "execution_count": 30,
   "id": "540b2f9d15a4df4a",
   "metadata": {
    "ExecuteTime": {
     "end_time": "2025-04-25T18:40:56.127254Z",
     "start_time": "2025-04-25T18:40:56.123293Z"
    }
   },
   "outputs": [],
   "source": [
    "#编辑邮件内容信息  Edit the text in email\n",
    "textcontent=\"这是我的python练习项目\"\n",
    "mailcontent=MT(textcontent,\"plain\",\"utf=8\")"
   ]
  },
  {
   "cell_type": "code",
   "execution_count": 31,
   "id": "730d271ed3275972",
   "metadata": {
    "ExecuteTime": {
     "end_time": "2025-04-25T18:40:58.043421Z",
     "start_time": "2025-04-25T18:40:58.039277Z"
    }
   },
   "outputs": [],
   "source": [
    "#添加照片 take the Image into python\n",
    "Imagepath=r\"C:\\Users\\chenyan\\Desktop\\YequEmail\\微信图片_20250425152659.png\"\n",
    "with open(Imagepath,\"rb\") as imagefile:\n",
    "    filecontent=imagefile.read()"
   ]
  },
  {
   "cell_type": "code",
   "execution_count": 32,
   "id": "9b459f6657a0e598",
   "metadata": {
    "ExecuteTime": {
     "end_time": "2025-04-25T18:40:59.957152Z",
     "start_time": "2025-04-25T18:40:59.951991Z"
    }
   },
   "outputs": [],
   "source": [
    "#照片加入邮箱 take the photo into email\n",
    "attachment=MG(filecontent)\n",
    "attachment.add_header(\"Content-Disposition\",\"attachment\",filename=\"照片\")"
   ]
  },
  {
   "cell_type": "code",
   "execution_count": 33,
   "id": "c539bc7068316722",
   "metadata": {
    "ExecuteTime": {
     "end_time": "2025-04-25T18:41:02.449108Z",
     "start_time": "2025-04-25T18:41:02.444380Z"
    }
   },
   "outputs": [],
   "source": [
    "#整合进msg take them into msg\n",
    "msg.attach(mailcontent)\n",
    "msg.attach(attachment)"
   ]
  },
  {
   "cell_type": "code",
   "execution_count": 34,
   "id": "d2fabbc30dfba5f0",
   "metadata": {
    "ExecuteTime": {
     "end_time": "2025-04-25T18:41:05.990069Z",
     "start_time": "2025-04-25T18:41:04.297637Z"
    }
   },
   "outputs": [
    {
     "data": {
      "text/plain": [
       "{}"
      ]
     },
     "execution_count": 34,
     "metadata": {},
     "output_type": "execute_result"
    }
   ],
   "source": [
    "#发送邮件 send Email\n",
    "linshiyoujian.sendmail(sender,receiver,msg.as_string())\n",
    "print(\"OK\")"
   ]
  },
  {
   "metadata": {},
   "cell_type": "code",
   "outputs": [],
   "execution_count": null,
   "source": [
    "#一键执行代码（合并单元）One-click code execution (merge cells)\n",
    "mport\n",
    "smtplib\n",
    "from email.mime.multipart import MIMEMultipart as MP, MIMEMultipart\n",
    "from email.mime.text import MIMEText as MT\n",
    "from email.header import Header as HD\n",
    "from email.mime.image import MIMEImage as MG\n",
    "\n",
    "print(\"导入完成\")\n",
    "#我用的是一个临时邮件 I used a Temp email\n",
    "linshiyoujian = smtplib.SMTP(\"send.smtp.dev\", 587)\n",
    "#linshiyoujian.starttls()\n",
    "mailuser = \"chenyan@abcd.com\"\n",
    "mailpass = \"741852abcD\"\n",
    "linshiyoujian.login(mailuser, mailpass)\n",
    "print(\"登陆成功\")\n",
    "#设置收发人 set the sender and receiver\n",
    "sender = \"chenyan@abcd.com\"\n",
    "receiver = \"chenyan760017400@gmail.com\"\n",
    "msg = MP()\n",
    "msg[\"Subject\"] = HD(\"python测试\")\n",
    "msg[\"From\"] = HD(f\"chenyan<{sender}>\")\n",
    "msg[\"To\"] = HD(f\"沉言<{receiver}>\")\n",
    "#编辑邮件内容信息  Edit the text in email\n",
    "textcontent = \"这是我的python练习项目\"\n",
    "mailcontent = MT(textcontent, \"plain\", \"utf=8\")\n",
    "#添加照片 take the Image into python\n",
    "Imagepath = r\"C:\\Users\\chenyan\\Desktop\\YequEmail\\微信图片_20250425152659.png\"\n",
    "with open(Imagepath, \"rb\") as imagefile:\n",
    "    filecontent = imagefile.read()\n",
    "#照片加入邮箱 take the photo into email\n",
    "attachment = MG(filecontent)\n",
    "attachment.add_header(\"Content-Disposition\", \"attachment\", filename=\"照片\")\n",
    "#整合进msg take them into msg\n",
    "msg.attach(mailcontent)\n",
    "msg.attach(attachment)\n",
    "#发送邮件 send Email\n",
    "linshiyoujian.sendmail(sender, receiver, msg.as_string())\n",
    "print(\"OK\")"
   ],
   "id": "52f7b3dc3bb48c42"
  }
 ],
 "metadata": {
  "kernelspec": {
   "display_name": "Python 3 (ipykernel)",
   "language": "python",
   "name": "python3"
  },
  "language_info": {
   "codemirror_mode": {
    "name": "ipython",
    "version": 3
   },
   "file_extension": ".py",
   "mimetype": "text/x-python",
   "name": "python",
   "nbconvert_exporter": "python",
   "pygments_lexer": "ipython3",
   "version": "3.12.3"
  }
 },
 "nbformat": 4,
 "nbformat_minor": 5
}
