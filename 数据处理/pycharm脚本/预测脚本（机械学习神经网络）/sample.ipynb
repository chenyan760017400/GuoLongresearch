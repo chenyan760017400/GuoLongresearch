{
 "cells": [
  {
   "metadata": {},
   "cell_type": "markdown",
   "source": [
    "# This is a sample Jupyter Notebook\n",
    "\n",
    "Below is an example of a code cell. \n",
    "Put your cursor into the cell and press Shift+Enter to execute it and select the next one, or click !here goes the icon of the corresponding button in the gutter! button.\n",
    "To debug a cell, press Alt+Shift+Enter, or click !here goes the icon of the corresponding button in the gutter! button.\n",
    "\n",
    "Press Double Shift to search everywhere for classes, files, tool windows, actions, and settings.\n",
    "\n",
    "To learn more about Jupyter Notebooks in PyCharm, see [help](https://www.jetbrains.com/help/pycharm/jupyter-notebook-support.html).\n",
    "For an overview of PyCharm, go to Help -> Learn IDE features or refer to [our documentation](https://www.jetbrains.com/help/pycharm/getting-started.html)."
   ],
   "id": "8a77807f92f26ee"
  },
  {
   "metadata": {
    "ExecuteTime": {
     "end_time": "2024-11-18T08:23:25.066997Z",
     "start_time": "2024-11-18T08:23:24.662096Z"
    }
   },
   "cell_type": "code",
   "source": [
    "# Pandaとnumpyの導入\n",
    "import pandas as pd\n",
    "import numpy as np"
   ],
   "id": "fbc121e30a2defb3",
   "outputs": [],
   "execution_count": 1
  },
  {
   "metadata": {
    "ExecuteTime": {
     "end_time": "2024-11-18T08:26:17.518521Z",
     "start_time": "2024-11-18T08:26:17.506303Z"
    }
   },
   "cell_type": "code",
   "source": [
    "# 残差デ-タの導入\n",
    "data = pd.read_excel('Resid.xlsx')"
   ],
   "id": "b498ee4b9dce0e43",
   "outputs": [],
   "execution_count": 3
  },
  {
   "metadata": {
    "ExecuteTime": {
     "end_time": "2024-11-18T08:27:50.647467Z",
     "start_time": "2024-11-18T08:27:50.635392Z"
    }
   },
   "cell_type": "code",
   "source": [
    "#デ-タ構造の検査\n",
    "print(data.head())"
   ],
   "id": "122db1eced8056ea",
   "outputs": [
    {
     "name": "stdout",
     "output_type": "stream",
     "text": [
      "   Year  Residuals\n",
      "0  1981        NaN\n",
      "1  1982  -0.105804\n",
      "2  1983  -0.054828\n",
      "3  1984  -0.071709\n",
      "4  1985   0.019054\n"
     ]
    }
   ],
   "execution_count": 4
  },
  {
   "metadata": {
    "ExecuteTime": {
     "end_time": "2024-11-18T08:35:14.814854Z",
     "start_time": "2024-11-18T08:35:14.805654Z"
    }
   },
   "cell_type": "code",
   "source": [
    "# 残差デ-タを変数に指定する\n",
    "residual = data['Residuals'].values"
   ],
   "id": "e43126206cc31eaf",
   "outputs": [],
   "execution_count": 8
  },
  {
   "metadata": {
    "ExecuteTime": {
     "end_time": "2024-11-18T08:41:19.111260Z",
     "start_time": "2024-11-18T08:41:19.105836Z"
    }
   },
   "cell_type": "code",
   "source": [
    "# 時系列デ-タを構造する\n",
    "def create_dataset(dataset, look_back=3):\n",
    "    X, y = [], []\n",
    "    for i in range(len(dataset) - look_back):\n",
    "        X.append(dataset[i:i+look_back])\n",
    "        y.append(dataset[i+look_back])\n",
    "    return np.array(X), np.array(y)"
   ],
   "id": "b38da9fa63f8cc00",
   "outputs": [],
   "execution_count": 9
  },
  {
   "metadata": {
    "ExecuteTime": {
     "end_time": "2024-11-18T08:42:52.583394Z",
     "start_time": "2024-11-18T08:42:52.578940Z"
    }
   },
   "cell_type": "code",
   "source": [
    "look_back = 3  # 遅れ値lag\n",
    "X, y = create_dataset(residual, look_back)"
   ],
   "id": "71121dbf61a7f79c",
   "outputs": [],
   "execution_count": 10
  },
  {
   "metadata": {},
   "cell_type": "code",
   "outputs": [],
   "execution_count": null,
   "source": "",
   "id": "24c2711f884ad541"
  }
 ],
 "metadata": {
  "kernelspec": {
   "display_name": "Python 3",
   "language": "python",
   "name": "python3"
  },
  "language_info": {
   "codemirror_mode": {
    "name": "ipython",
    "version": 2
   },
   "file_extension": ".py",
   "mimetype": "text/x-python",
   "name": "python",
   "nbconvert_exporter": "python",
   "pygments_lexer": "ipython2",
   "version": "2.7.6"
  }
 },
 "nbformat": 4,
 "nbformat_minor": 5
}
