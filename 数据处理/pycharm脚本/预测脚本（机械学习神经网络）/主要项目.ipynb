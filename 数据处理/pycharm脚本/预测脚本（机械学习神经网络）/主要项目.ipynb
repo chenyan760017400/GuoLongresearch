{
 "cells": [
  {
   "metadata": {},
   "cell_type": "markdown",
   "source": [
    "# This is a sample Jupyter Notebook\n",
    "\n",
    "Below is an example of a code cell. \n",
    "Put your cursor into the cell and press Shift+Enter to execute it and select the next one, or click !here goes the icon of the corresponding button in the gutter! button.\n",
    "To debug a cell, press Alt+Shift+Enter, or click !here goes the icon of the corresponding button in the gutter! button.\n",
    "\n",
    "Press Double Shift to search everywhere for classes, files, tool windows, actions, and settings.\n",
    "\n",
    "To learn more about Jupyter Notebooks in PyCharm, see [help](https://www.jetbrains.com/help/pycharm/jupyter-notebook-support.html).\n",
    "For an overview of PyCharm, go to Help -> Learn IDE features or refer to [our documentation](https://www.jetbrains.com/help/pycharm/getting-started.html)."
   ],
   "id": "8a77807f92f26ee"
  },
  {
   "metadata": {
    "ExecuteTime": {
     "end_time": "2024-11-18T08:51:48.503179Z",
     "start_time": "2024-11-18T08:51:48.206472Z"
    }
   },
   "cell_type": "code",
   "source": [
    "# Pandaとnumpyの導入\n",
    "import pandas as pd\n",
    "import numpy as np"
   ],
   "id": "fbc121e30a2defb3",
   "outputs": [],
   "execution_count": 10
  },
  {
   "metadata": {
    "ExecuteTime": {
     "end_time": "2024-11-18T08:51:54.049560Z",
     "start_time": "2024-11-18T08:51:53.828718Z"
    }
   },
   "cell_type": "code",
   "source": [
    "# 残差デ-タの導入\n",
    "data = pd.read_excel('Resid.xlsx')"
   ],
   "id": "b498ee4b9dce0e43",
   "outputs": [],
   "execution_count": 11
  },
  {
   "metadata": {
    "ExecuteTime": {
     "end_time": "2024-11-18T08:51:57.477736Z",
     "start_time": "2024-11-18T08:51:57.470469Z"
    }
   },
   "cell_type": "code",
   "source": [
    "#デ-タ構造の検査\n",
    "print(data.head())"
   ],
   "id": "122db1eced8056ea",
   "outputs": [
    {
     "name": "stdout",
     "output_type": "stream",
     "text": [
      "   Year  Residuals\n",
      "0  1981        NaN\n",
      "1  1982  -0.105804\n",
      "2  1983  -0.054828\n",
      "3  1984  -0.071709\n",
      "4  1985   0.019054\n"
     ]
    }
   ],
   "execution_count": 12
  },
  {
   "metadata": {
    "ExecuteTime": {
     "end_time": "2024-11-18T08:52:03.019997Z",
     "start_time": "2024-11-18T08:52:03.013998Z"
    }
   },
   "cell_type": "code",
   "source": [
    "# 残差デ-タを変数に指定する\n",
    "residual = data['Residuals'].values"
   ],
   "id": "e43126206cc31eaf",
   "outputs": [],
   "execution_count": 13
  },
  {
   "metadata": {
    "ExecuteTime": {
     "end_time": "2024-11-18T08:52:09.373079Z",
     "start_time": "2024-11-18T08:52:09.367550Z"
    }
   },
   "cell_type": "code",
   "source": [
    "# 時系列デ-タを構造する\n",
    "def create_dataset(dataset, look_back=3):\n",
    "    X, y = [], []\n",
    "    for i in range(len(dataset) - look_back):\n",
    "        X.append(dataset[i:i+look_back])\n",
    "        y.append(dataset[i+look_back])\n",
    "    return np.array(X), np.array(y)"
   ],
   "id": "b38da9fa63f8cc00",
   "outputs": [],
   "execution_count": 14
  },
  {
   "metadata": {
    "ExecuteTime": {
     "end_time": "2024-11-18T08:52:14.532817Z",
     "start_time": "2024-11-18T08:52:14.528334Z"
    }
   },
   "cell_type": "code",
   "source": [
    "\n",
    "look_back = 3  # 遅れ値lag\n",
    "X, y = create_dataset(residual, look_back)"
   ],
   "id": "71121dbf61a7f79c",
   "outputs": [],
   "execution_count": 15
  },
  {
   "metadata": {
    "ExecuteTime": {
     "end_time": "2024-11-18T08:52:18.790316Z",
     "start_time": "2024-11-18T08:52:18.786460Z"
    }
   },
   "cell_type": "code",
   "source": [
    "# 時系列デ-タを検査する\n",
    "print(f'入力特性 X の形: {X.shape}')\n",
    "print(f'出力目標 y 的形: {y.shape}')"
   ],
   "id": "24c2711f884ad541",
   "outputs": [
    {
     "name": "stdout",
     "output_type": "stream",
     "text": [
      "入力特性 X の形: (40, 3)\n",
      "出力目標 y 的形: (40,)\n"
     ]
    }
   ],
   "execution_count": 16
  },
  {
   "metadata": {
    "ExecuteTime": {
     "end_time": "2024-11-18T08:57:34.258108Z",
     "start_time": "2024-11-18T08:57:34.254507Z"
    }
   },
   "cell_type": "code",
   "source": [
    "#Scriptの導入\n",
    "from sklearn.model_selection import train_test_split\n",
    "from sklearn.preprocessing import MinMaxScaler"
   ],
   "id": "c9b1a9fdb21d27ab",
   "outputs": [],
   "execution_count": 18
  },
  {
   "metadata": {
    "ExecuteTime": {
     "end_time": "2024-11-18T08:59:39.769798Z",
     "start_time": "2024-11-18T08:59:39.765856Z"
    }
   },
   "cell_type": "code",
   "source": [
    "#トレーニング セットとテスト セットを分割する\n",
    "X_train, X_test, y_train, y_test = train_test_split(X, y, test_size=0.2, random_state=42)"
   ],
   "id": "74c265257343c918",
   "outputs": [],
   "execution_count": 19
  },
  {
   "metadata": {
    "ExecuteTime": {
     "end_time": "2024-11-18T09:04:05.623381Z",
     "start_time": "2024-11-18T09:04:05.617837Z"
    }
   },
   "cell_type": "code",
   "source": [
    "# データの正規化\n",
    "scaler = MinMaxScaler(feature_range=(0, 1))\n",
    "X_train = scaler.fit_transform(X_train)\n",
    "X_test = scaler.transform(X_test)"
   ],
   "id": "cd0a8ceb6b798ef7",
   "outputs": [],
   "execution_count": 20
  },
  {
   "metadata": {
    "ExecuteTime": {
     "end_time": "2024-11-18T09:05:13.559939Z",
     "start_time": "2024-11-18T09:05:13.555352Z"
    }
   },
   "cell_type": "code",
   "source": [
    "# ニューラル ネットワークの入力要件の形状は次のとおりです[samples, time_steps, features]\n",
    "X_train = np.reshape(X_train, (X_train.shape[0], X_train.shape[1], 1))\n",
    "X_test = np.reshape(X_test, (X_test.shape[0], X_test.shape[1], 1))"
   ],
   "id": "714f415439468e3f",
   "outputs": [],
   "execution_count": 21
  },
  {
   "metadata": {
    "ExecuteTime": {
     "end_time": "2024-11-18T09:16:47.096405Z",
     "start_time": "2024-11-18T09:16:12.742046Z"
    }
   },
   "cell_type": "code",
   "source": "!pip install tensorflow",
   "id": "3b364658290d800f",
   "outputs": [
    {
     "name": "stdout",
     "output_type": "stream",
     "text": [
      "Collecting tensorflow\n",
      "  Downloading tensorflow-2.18.0-cp312-cp312-win_amd64.whl.metadata (3.3 kB)\n",
      "Collecting tensorflow-intel==2.18.0 (from tensorflow)\n",
      "  Downloading tensorflow_intel-2.18.0-cp312-cp312-win_amd64.whl.metadata (4.9 kB)\n",
      "Collecting absl-py>=1.0.0 (from tensorflow-intel==2.18.0->tensorflow)\n",
      "  Downloading absl_py-2.1.0-py3-none-any.whl.metadata (2.3 kB)\n",
      "Collecting astunparse>=1.6.0 (from tensorflow-intel==2.18.0->tensorflow)\n",
      "  Downloading astunparse-1.6.3-py2.py3-none-any.whl.metadata (4.4 kB)\n",
      "Collecting flatbuffers>=24.3.25 (from tensorflow-intel==2.18.0->tensorflow)\n",
      "  Downloading flatbuffers-24.3.25-py2.py3-none-any.whl.metadata (850 bytes)\n",
      "Collecting gast!=0.5.0,!=0.5.1,!=0.5.2,>=0.2.1 (from tensorflow-intel==2.18.0->tensorflow)\n",
      "  Downloading gast-0.6.0-py3-none-any.whl.metadata (1.3 kB)\n",
      "Collecting google-pasta>=0.1.1 (from tensorflow-intel==2.18.0->tensorflow)\n",
      "  Downloading google_pasta-0.2.0-py3-none-any.whl.metadata (814 bytes)\n",
      "Collecting libclang>=13.0.0 (from tensorflow-intel==2.18.0->tensorflow)\n",
      "  Downloading libclang-18.1.1-py2.py3-none-win_amd64.whl.metadata (5.3 kB)\n",
      "Collecting opt-einsum>=2.3.2 (from tensorflow-intel==2.18.0->tensorflow)\n",
      "  Downloading opt_einsum-3.4.0-py3-none-any.whl.metadata (6.3 kB)\n",
      "Requirement already satisfied: packaging in c:\\users\\chenyan\\miniconda3\\lib\\site-packages (from tensorflow-intel==2.18.0->tensorflow) (23.1)\n",
      "Collecting protobuf!=4.21.0,!=4.21.1,!=4.21.2,!=4.21.3,!=4.21.4,!=4.21.5,<6.0.0dev,>=3.20.3 (from tensorflow-intel==2.18.0->tensorflow)\n",
      "  Downloading protobuf-5.28.3-cp310-abi3-win_amd64.whl.metadata (592 bytes)\n",
      "Requirement already satisfied: requests<3,>=2.21.0 in c:\\users\\chenyan\\miniconda3\\lib\\site-packages (from tensorflow-intel==2.18.0->tensorflow) (2.31.0)\n",
      "Requirement already satisfied: setuptools in c:\\users\\chenyan\\miniconda3\\lib\\site-packages (from tensorflow-intel==2.18.0->tensorflow) (68.2.2)\n",
      "Requirement already satisfied: six>=1.12.0 in c:\\users\\chenyan\\miniconda3\\lib\\site-packages (from tensorflow-intel==2.18.0->tensorflow) (1.16.0)\n",
      "Collecting termcolor>=1.1.0 (from tensorflow-intel==2.18.0->tensorflow)\n",
      "  Downloading termcolor-2.5.0-py3-none-any.whl.metadata (6.1 kB)\n",
      "Requirement already satisfied: typing-extensions>=3.6.6 in c:\\users\\chenyan\\miniconda3\\lib\\site-packages (from tensorflow-intel==2.18.0->tensorflow) (4.11.0)\n",
      "Collecting wrapt>=1.11.0 (from tensorflow-intel==2.18.0->tensorflow)\n",
      "  Downloading wrapt-1.16.0-cp312-cp312-win_amd64.whl.metadata (6.8 kB)\n",
      "Collecting grpcio<2.0,>=1.24.3 (from tensorflow-intel==2.18.0->tensorflow)\n",
      "  Downloading grpcio-1.68.0-cp312-cp312-win_amd64.whl.metadata (4.0 kB)\n",
      "Collecting tensorboard<2.19,>=2.18 (from tensorflow-intel==2.18.0->tensorflow)\n",
      "  Downloading tensorboard-2.18.0-py3-none-any.whl.metadata (1.6 kB)\n",
      "Collecting keras>=3.5.0 (from tensorflow-intel==2.18.0->tensorflow)\n",
      "  Downloading keras-3.6.0-py3-none-any.whl.metadata (5.8 kB)\n",
      "Requirement already satisfied: numpy<2.1.0,>=1.26.0 in c:\\users\\chenyan\\miniconda3\\lib\\site-packages (from tensorflow-intel==2.18.0->tensorflow) (1.26.4)\n",
      "Collecting h5py>=3.11.0 (from tensorflow-intel==2.18.0->tensorflow)\n",
      "  Downloading h5py-3.12.1-cp312-cp312-win_amd64.whl.metadata (2.5 kB)\n",
      "Collecting ml-dtypes<0.5.0,>=0.4.0 (from tensorflow-intel==2.18.0->tensorflow)\n",
      "  Downloading ml_dtypes-0.4.1-cp312-cp312-win_amd64.whl.metadata (20 kB)\n",
      "Requirement already satisfied: wheel<1.0,>=0.23.0 in c:\\users\\chenyan\\miniconda3\\lib\\site-packages (from astunparse>=1.6.0->tensorflow-intel==2.18.0->tensorflow) (0.41.2)\n",
      "Collecting rich (from keras>=3.5.0->tensorflow-intel==2.18.0->tensorflow)\n",
      "  Downloading rich-13.9.4-py3-none-any.whl.metadata (18 kB)\n",
      "Collecting namex (from keras>=3.5.0->tensorflow-intel==2.18.0->tensorflow)\n",
      "  Downloading namex-0.0.8-py3-none-any.whl.metadata (246 bytes)\n",
      "Collecting optree (from keras>=3.5.0->tensorflow-intel==2.18.0->tensorflow)\n",
      "  Downloading optree-0.13.1-cp312-cp312-win_amd64.whl.metadata (48 kB)\n",
      "Requirement already satisfied: charset-normalizer<4,>=2 in c:\\users\\chenyan\\miniconda3\\lib\\site-packages (from requests<3,>=2.21.0->tensorflow-intel==2.18.0->tensorflow) (2.0.4)\n",
      "Requirement already satisfied: idna<4,>=2.5 in c:\\users\\chenyan\\miniconda3\\lib\\site-packages (from requests<3,>=2.21.0->tensorflow-intel==2.18.0->tensorflow) (3.4)\n",
      "Requirement already satisfied: urllib3<3,>=1.21.1 in c:\\users\\chenyan\\miniconda3\\lib\\site-packages (from requests<3,>=2.21.0->tensorflow-intel==2.18.0->tensorflow) (2.1.0)\n",
      "Requirement already satisfied: certifi>=2017.4.17 in c:\\users\\chenyan\\miniconda3\\lib\\site-packages (from requests<3,>=2.21.0->tensorflow-intel==2.18.0->tensorflow) (2024.8.30)\n",
      "Collecting markdown>=2.6.8 (from tensorboard<2.19,>=2.18->tensorflow-intel==2.18.0->tensorflow)\n",
      "  Downloading Markdown-3.7-py3-none-any.whl.metadata (7.0 kB)\n",
      "Collecting tensorboard-data-server<0.8.0,>=0.7.0 (from tensorboard<2.19,>=2.18->tensorflow-intel==2.18.0->tensorflow)\n",
      "  Downloading tensorboard_data_server-0.7.2-py3-none-any.whl.metadata (1.1 kB)\n",
      "Collecting werkzeug>=1.0.1 (from tensorboard<2.19,>=2.18->tensorflow-intel==2.18.0->tensorflow)\n",
      "  Downloading werkzeug-3.1.3-py3-none-any.whl.metadata (3.7 kB)\n",
      "Requirement already satisfied: MarkupSafe>=2.1.1 in c:\\users\\chenyan\\miniconda3\\lib\\site-packages (from werkzeug>=1.0.1->tensorboard<2.19,>=2.18->tensorflow-intel==2.18.0->tensorflow) (2.1.3)\n",
      "Collecting markdown-it-py>=2.2.0 (from rich->keras>=3.5.0->tensorflow-intel==2.18.0->tensorflow)\n",
      "  Downloading markdown_it_py-3.0.0-py3-none-any.whl.metadata (6.9 kB)\n",
      "Requirement already satisfied: pygments<3.0.0,>=2.13.0 in c:\\users\\chenyan\\miniconda3\\lib\\site-packages (from rich->keras>=3.5.0->tensorflow-intel==2.18.0->tensorflow) (2.15.1)\n",
      "Collecting mdurl~=0.1 (from markdown-it-py>=2.2.0->rich->keras>=3.5.0->tensorflow-intel==2.18.0->tensorflow)\n",
      "  Downloading mdurl-0.1.2-py3-none-any.whl.metadata (1.6 kB)\n",
      "Downloading tensorflow-2.18.0-cp312-cp312-win_amd64.whl (7.5 kB)\n",
      "Downloading tensorflow_intel-2.18.0-cp312-cp312-win_amd64.whl (390.3 MB)\n",
      "   ---------------------------------------- 0.0/390.3 MB ? eta -:--:--\n",
      "   - -------------------------------------- 11.3/390.3 MB 58.9 MB/s eta 0:00:07\n",
      "   -- ------------------------------------- 23.3/390.3 MB 56.8 MB/s eta 0:00:07\n",
      "   --- ------------------------------------ 35.4/390.3 MB 57.7 MB/s eta 0:00:07\n",
      "   ---- ----------------------------------- 48.0/390.3 MB 57.6 MB/s eta 0:00:06\n",
      "   ------ --------------------------------- 58.7/390.3 MB 55.8 MB/s eta 0:00:06\n",
      "   ------ --------------------------------- 67.6/390.3 MB 53.9 MB/s eta 0:00:06\n",
      "   ------- -------------------------------- 77.1/390.3 MB 52.3 MB/s eta 0:00:06\n",
      "   -------- ------------------------------- 86.5/390.3 MB 51.1 MB/s eta 0:00:06\n",
      "   --------- ------------------------------ 96.2/390.3 MB 50.8 MB/s eta 0:00:06\n",
      "   ---------- ---------------------------- 106.2/390.3 MB 50.2 MB/s eta 0:00:06\n",
      "   ----------- --------------------------- 116.4/390.3 MB 49.9 MB/s eta 0:00:06\n",
      "   ------------ -------------------------- 126.9/390.3 MB 49.7 MB/s eta 0:00:06\n",
      "   ------------- ------------------------- 137.6/390.3 MB 50.0 MB/s eta 0:00:06\n",
      "   -------------- ------------------------ 147.1/390.3 MB 49.5 MB/s eta 0:00:05\n",
      "   --------------- ----------------------- 154.7/390.3 MB 48.4 MB/s eta 0:00:05\n",
      "   ---------------- ---------------------- 160.2/390.3 MB 47.2 MB/s eta 0:00:05\n",
      "   ---------------- ---------------------- 166.5/390.3 MB 46.1 MB/s eta 0:00:05\n",
      "   ----------------- --------------------- 172.8/390.3 MB 45.1 MB/s eta 0:00:05\n",
      "   ----------------- --------------------- 179.3/390.3 MB 44.2 MB/s eta 0:00:05\n",
      "   ------------------ -------------------- 186.1/390.3 MB 43.7 MB/s eta 0:00:05\n",
      "   ------------------- ------------------- 193.2/390.3 MB 43.2 MB/s eta 0:00:05\n",
      "   ------------------- ------------------- 200.0/390.3 MB 42.6 MB/s eta 0:00:05\n",
      "   -------------------- ------------------ 207.4/390.3 MB 42.4 MB/s eta 0:00:05\n",
      "   --------------------- ----------------- 215.0/390.3 MB 42.0 MB/s eta 0:00:05\n",
      "   ---------------------- ---------------- 222.8/390.3 MB 41.9 MB/s eta 0:00:04\n",
      "   ----------------------- --------------- 230.7/390.3 MB 41.8 MB/s eta 0:00:04\n",
      "   ----------------------- --------------- 239.3/390.3 MB 41.7 MB/s eta 0:00:04\n",
      "   ------------------------ -------------- 248.0/390.3 MB 41.6 MB/s eta 0:00:04\n",
      "   ------------------------- ------------- 257.2/390.3 MB 41.6 MB/s eta 0:00:04\n",
      "   -------------------------- ------------ 266.1/390.3 MB 41.6 MB/s eta 0:00:03\n",
      "   --------------------------- ----------- 276.0/390.3 MB 41.2 MB/s eta 0:00:03\n",
      "   ---------------------------- ---------- 285.2/390.3 MB 40.9 MB/s eta 0:00:03\n",
      "   ----------------------------- --------- 292.0/390.3 MB 40.4 MB/s eta 0:00:03\n",
      "   ----------------------------- --------- 299.4/390.3 MB 39.9 MB/s eta 0:00:03\n",
      "   ------------------------------ -------- 306.4/390.3 MB 39.3 MB/s eta 0:00:03\n",
      "   ------------------------------- ------- 314.0/390.3 MB 38.9 MB/s eta 0:00:02\n",
      "   -------------------------------- ------ 322.2/390.3 MB 38.5 MB/s eta 0:00:02\n",
      "   --------------------------------- ----- 330.3/390.3 MB 38.4 MB/s eta 0:00:02\n",
      "   --------------------------------- ----- 339.2/390.3 MB 38.4 MB/s eta 0:00:02\n",
      "   ---------------------------------- ---- 348.1/390.3 MB 38.3 MB/s eta 0:00:02\n",
      "   ----------------------------------- --- 357.0/390.3 MB 38.3 MB/s eta 0:00:01\n",
      "   ------------------------------------ -- 366.2/390.3 MB 38.2 MB/s eta 0:00:01\n",
      "   ------------------------------------- - 376.2/390.3 MB 38.1 MB/s eta 0:00:01\n",
      "   --------------------------------------  385.4/390.3 MB 38.0 MB/s eta 0:00:01\n",
      "   --------------------------------------  388.8/390.3 MB 37.3 MB/s eta 0:00:01\n",
      "   --------------------------------------  390.1/390.3 MB 37.2 MB/s eta 0:00:01\n",
      "   --------------------------------------- 390.3/390.3 MB 35.4 MB/s eta 0:00:00\n",
      "Downloading absl_py-2.1.0-py3-none-any.whl (133 kB)\n",
      "Downloading astunparse-1.6.3-py2.py3-none-any.whl (12 kB)\n",
      "Downloading flatbuffers-24.3.25-py2.py3-none-any.whl (26 kB)\n",
      "Downloading gast-0.6.0-py3-none-any.whl (21 kB)\n",
      "Downloading google_pasta-0.2.0-py3-none-any.whl (57 kB)\n",
      "Downloading grpcio-1.68.0-cp312-cp312-win_amd64.whl (4.4 MB)\n",
      "   ---------------------------------------- 0.0/4.4 MB ? eta -:--:--\n",
      "   ---------------------------------------- 4.4/4.4 MB 43.9 MB/s eta 0:00:00\n",
      "Downloading h5py-3.12.1-cp312-cp312-win_amd64.whl (3.0 MB)\n",
      "   ---------------------------------------- 0.0/3.0 MB ? eta -:--:--\n",
      "   ---------------------------------------- 3.0/3.0 MB 43.3 MB/s eta 0:00:00\n",
      "Downloading keras-3.6.0-py3-none-any.whl (1.2 MB)\n",
      "   ---------------------------------------- 0.0/1.2 MB ? eta -:--:--\n",
      "   ---------------------------------------- 1.2/1.2 MB 61.9 MB/s eta 0:00:00\n",
      "Downloading libclang-18.1.1-py2.py3-none-win_amd64.whl (26.4 MB)\n",
      "   ---------------------------------------- 0.0/26.4 MB ? eta -:--:--\n",
      "   --------------- ------------------------ 10.0/26.4 MB 47.8 MB/s eta 0:00:01\n",
      "   -------------------------- ------------- 17.8/26.4 MB 41.6 MB/s eta 0:00:01\n",
      "   -------------------------------------- - 25.4/26.4 MB 40.3 MB/s eta 0:00:01\n",
      "   ---------------------------------------- 26.4/26.4 MB 35.6 MB/s eta 0:00:00\n",
      "Downloading ml_dtypes-0.4.1-cp312-cp312-win_amd64.whl (127 kB)\n",
      "Downloading opt_einsum-3.4.0-py3-none-any.whl (71 kB)\n",
      "Downloading protobuf-5.28.3-cp310-abi3-win_amd64.whl (431 kB)\n",
      "Downloading tensorboard-2.18.0-py3-none-any.whl (5.5 MB)\n",
      "   ---------------------------------------- 0.0/5.5 MB ? eta -:--:--\n",
      "   ---------------------------------------- 5.5/5.5 MB 30.5 MB/s eta 0:00:00\n",
      "Downloading termcolor-2.5.0-py3-none-any.whl (7.8 kB)\n",
      "Downloading wrapt-1.16.0-cp312-cp312-win_amd64.whl (37 kB)\n",
      "Downloading Markdown-3.7-py3-none-any.whl (106 kB)\n",
      "Downloading tensorboard_data_server-0.7.2-py3-none-any.whl (2.4 kB)\n",
      "Downloading werkzeug-3.1.3-py3-none-any.whl (224 kB)\n",
      "Downloading namex-0.0.8-py3-none-any.whl (5.8 kB)\n",
      "Downloading optree-0.13.1-cp312-cp312-win_amd64.whl (292 kB)\n",
      "Downloading rich-13.9.4-py3-none-any.whl (242 kB)\n",
      "Downloading markdown_it_py-3.0.0-py3-none-any.whl (87 kB)\n",
      "Downloading mdurl-0.1.2-py3-none-any.whl (10.0 kB)\n",
      "Installing collected packages: namex, libclang, flatbuffers, wrapt, werkzeug, termcolor, tensorboard-data-server, protobuf, optree, opt-einsum, ml-dtypes, mdurl, markdown, h5py, grpcio, google-pasta, gast, astunparse, absl-py, tensorboard, markdown-it-py, rich, keras, tensorflow-intel, tensorflow\n",
      "Successfully installed absl-py-2.1.0 astunparse-1.6.3 flatbuffers-24.3.25 gast-0.6.0 google-pasta-0.2.0 grpcio-1.68.0 h5py-3.12.1 keras-3.6.0 libclang-18.1.1 markdown-3.7 markdown-it-py-3.0.0 mdurl-0.1.2 ml-dtypes-0.4.1 namex-0.0.8 opt-einsum-3.4.0 optree-0.13.1 protobuf-5.28.3 rich-13.9.4 tensorboard-2.18.0 tensorboard-data-server-0.7.2 tensorflow-2.18.0 tensorflow-intel-2.18.0 termcolor-2.5.0 werkzeug-3.1.3 wrapt-1.16.0\n"
     ]
    },
    {
     "name": "stderr",
     "output_type": "stream",
     "text": [
      "\n",
      "[notice] A new release of pip is available: 24.2 -> 24.3.1\n",
      "[notice] To update, run: python.exe -m pip install --upgrade pip\n"
     ]
    }
   ],
   "execution_count": 23
  },
  {
   "metadata": {
    "ExecuteTime": {
     "end_time": "2024-11-18T09:17:23.623519Z",
     "start_time": "2024-11-18T09:17:21.684747Z"
    }
   },
   "cell_type": "code",
   "source": [
    "\n",
    "#必要なライブラリをインポートする\n",
    "from tensorflow.keras.models import Sequential\n",
    "from tensorflow.keras.layers import LSTM, Dense"
   ],
   "id": "ea2c97a34bf70cac",
   "outputs": [],
   "execution_count": 24
  },
  {
   "metadata": {
    "ExecuteTime": {
     "end_time": "2024-11-18T09:20:17.008947Z",
     "start_time": "2024-11-18T09:20:16.931981Z"
    }
   },
   "cell_type": "code",
   "source": [
    "# LSTM モデルを設定する\n",
    "model = Sequential()\n",
    "model.add(LSTM(50, return_sequences=True, input_shape=(look_back, 1)))\n",
    "model.add(LSTM(50, return_sequences=False))\n",
    "model.add(Dense(25))\n",
    "model.add(Dense(1))  # 出力部分"
   ],
   "id": "71a1d325c9c1ef88",
   "outputs": [
    {
     "name": "stderr",
     "output_type": "stream",
     "text": [
      "C:\\Users\\chenyan\\miniconda3\\Lib\\site-packages\\keras\\src\\layers\\rnn\\rnn.py:204: UserWarning: Do not pass an `input_shape`/`input_dim` argument to a layer. When using Sequential models, prefer using an `Input(shape)` object as the first layer in the model instead.\n",
      "  super().__init__(**kwargs)\n"
     ]
    }
   ],
   "execution_count": 25
  },
  {
   "metadata": {
    "ExecuteTime": {
     "end_time": "2024-11-18T09:23:51.221881Z",
     "start_time": "2024-11-18T09:23:51.209990Z"
    }
   },
   "cell_type": "code",
   "source": [
    "# モデルをコンパイルする\n",
    "model.compile(optimizer='adam', loss='mean_squared_error')"
   ],
   "id": "c6bd13f8f84009b5",
   "outputs": [],
   "execution_count": 26
  },
  {
   "metadata": {
    "ExecuteTime": {
     "end_time": "2024-11-18T09:24:31.748596Z",
     "start_time": "2024-11-18T09:24:31.725541Z"
    }
   },
   "cell_type": "code",
   "source": [
    "# モデル構造を表示する\n",
    "model.summary()"
   ],
   "id": "cffa6c089008c11b",
   "outputs": [
    {
     "data": {
      "text/plain": [
       "\u001B[1mModel: \"sequential\"\u001B[0m\n"
      ],
      "text/html": [
       "<pre style=\"white-space:pre;overflow-x:auto;line-height:normal;font-family:Menlo,'DejaVu Sans Mono',consolas,'Courier New',monospace\"><span style=\"font-weight: bold\">Model: \"sequential\"</span>\n",
       "</pre>\n"
      ]
     },
     "metadata": {},
     "output_type": "display_data"
    },
    {
     "data": {
      "text/plain": [
       "┏━━━━━━━━━━━━━━━━━━━━━━━━━━━━━━━━━┳━━━━━━━━━━━━━━━━━━━━━━━━┳━━━━━━━━━━━━━━━┓\n",
       "┃\u001B[1m \u001B[0m\u001B[1mLayer (type)                   \u001B[0m\u001B[1m \u001B[0m┃\u001B[1m \u001B[0m\u001B[1mOutput Shape          \u001B[0m\u001B[1m \u001B[0m┃\u001B[1m \u001B[0m\u001B[1m      Param #\u001B[0m\u001B[1m \u001B[0m┃\n",
       "┡━━━━━━━━━━━━━━━━━━━━━━━━━━━━━━━━━╇━━━━━━━━━━━━━━━━━━━━━━━━╇━━━━━━━━━━━━━━━┩\n",
       "│ lstm (\u001B[38;5;33mLSTM\u001B[0m)                     │ (\u001B[38;5;45mNone\u001B[0m, \u001B[38;5;34m3\u001B[0m, \u001B[38;5;34m50\u001B[0m)          │        \u001B[38;5;34m10,400\u001B[0m │\n",
       "├─────────────────────────────────┼────────────────────────┼───────────────┤\n",
       "│ lstm_1 (\u001B[38;5;33mLSTM\u001B[0m)                   │ (\u001B[38;5;45mNone\u001B[0m, \u001B[38;5;34m50\u001B[0m)             │        \u001B[38;5;34m20,200\u001B[0m │\n",
       "├─────────────────────────────────┼────────────────────────┼───────────────┤\n",
       "│ dense (\u001B[38;5;33mDense\u001B[0m)                   │ (\u001B[38;5;45mNone\u001B[0m, \u001B[38;5;34m25\u001B[0m)             │         \u001B[38;5;34m1,275\u001B[0m │\n",
       "├─────────────────────────────────┼────────────────────────┼───────────────┤\n",
       "│ dense_1 (\u001B[38;5;33mDense\u001B[0m)                 │ (\u001B[38;5;45mNone\u001B[0m, \u001B[38;5;34m1\u001B[0m)              │            \u001B[38;5;34m26\u001B[0m │\n",
       "└─────────────────────────────────┴────────────────────────┴───────────────┘\n"
      ],
      "text/html": [
       "<pre style=\"white-space:pre;overflow-x:auto;line-height:normal;font-family:Menlo,'DejaVu Sans Mono',consolas,'Courier New',monospace\">┏━━━━━━━━━━━━━━━━━━━━━━━━━━━━━━━━━┳━━━━━━━━━━━━━━━━━━━━━━━━┳━━━━━━━━━━━━━━━┓\n",
       "┃<span style=\"font-weight: bold\"> Layer (type)                    </span>┃<span style=\"font-weight: bold\"> Output Shape           </span>┃<span style=\"font-weight: bold\">       Param # </span>┃\n",
       "┡━━━━━━━━━━━━━━━━━━━━━━━━━━━━━━━━━╇━━━━━━━━━━━━━━━━━━━━━━━━╇━━━━━━━━━━━━━━━┩\n",
       "│ lstm (<span style=\"color: #0087ff; text-decoration-color: #0087ff\">LSTM</span>)                     │ (<span style=\"color: #00d7ff; text-decoration-color: #00d7ff\">None</span>, <span style=\"color: #00af00; text-decoration-color: #00af00\">3</span>, <span style=\"color: #00af00; text-decoration-color: #00af00\">50</span>)          │        <span style=\"color: #00af00; text-decoration-color: #00af00\">10,400</span> │\n",
       "├─────────────────────────────────┼────────────────────────┼───────────────┤\n",
       "│ lstm_1 (<span style=\"color: #0087ff; text-decoration-color: #0087ff\">LSTM</span>)                   │ (<span style=\"color: #00d7ff; text-decoration-color: #00d7ff\">None</span>, <span style=\"color: #00af00; text-decoration-color: #00af00\">50</span>)             │        <span style=\"color: #00af00; text-decoration-color: #00af00\">20,200</span> │\n",
       "├─────────────────────────────────┼────────────────────────┼───────────────┤\n",
       "│ dense (<span style=\"color: #0087ff; text-decoration-color: #0087ff\">Dense</span>)                   │ (<span style=\"color: #00d7ff; text-decoration-color: #00d7ff\">None</span>, <span style=\"color: #00af00; text-decoration-color: #00af00\">25</span>)             │         <span style=\"color: #00af00; text-decoration-color: #00af00\">1,275</span> │\n",
       "├─────────────────────────────────┼────────────────────────┼───────────────┤\n",
       "│ dense_1 (<span style=\"color: #0087ff; text-decoration-color: #0087ff\">Dense</span>)                 │ (<span style=\"color: #00d7ff; text-decoration-color: #00d7ff\">None</span>, <span style=\"color: #00af00; text-decoration-color: #00af00\">1</span>)              │            <span style=\"color: #00af00; text-decoration-color: #00af00\">26</span> │\n",
       "└─────────────────────────────────┴────────────────────────┴───────────────┘\n",
       "</pre>\n"
      ]
     },
     "metadata": {},
     "output_type": "display_data"
    },
    {
     "data": {
      "text/plain": [
       "\u001B[1m Total params: \u001B[0m\u001B[38;5;34m31,901\u001B[0m (124.61 KB)\n"
      ],
      "text/html": [
       "<pre style=\"white-space:pre;overflow-x:auto;line-height:normal;font-family:Menlo,'DejaVu Sans Mono',consolas,'Courier New',monospace\"><span style=\"font-weight: bold\"> Total params: </span><span style=\"color: #00af00; text-decoration-color: #00af00\">31,901</span> (124.61 KB)\n",
       "</pre>\n"
      ]
     },
     "metadata": {},
     "output_type": "display_data"
    },
    {
     "data": {
      "text/plain": [
       "\u001B[1m Trainable params: \u001B[0m\u001B[38;5;34m31,901\u001B[0m (124.61 KB)\n"
      ],
      "text/html": [
       "<pre style=\"white-space:pre;overflow-x:auto;line-height:normal;font-family:Menlo,'DejaVu Sans Mono',consolas,'Courier New',monospace\"><span style=\"font-weight: bold\"> Trainable params: </span><span style=\"color: #00af00; text-decoration-color: #00af00\">31,901</span> (124.61 KB)\n",
       "</pre>\n"
      ]
     },
     "metadata": {},
     "output_type": "display_data"
    },
    {
     "data": {
      "text/plain": [
       "\u001B[1m Non-trainable params: \u001B[0m\u001B[38;5;34m0\u001B[0m (0.00 B)\n"
      ],
      "text/html": [
       "<pre style=\"white-space:pre;overflow-x:auto;line-height:normal;font-family:Menlo,'DejaVu Sans Mono',consolas,'Courier New',monospace\"><span style=\"font-weight: bold\"> Non-trainable params: </span><span style=\"color: #00af00; text-decoration-color: #00af00\">0</span> (0.00 B)\n",
       "</pre>\n"
      ]
     },
     "metadata": {},
     "output_type": "display_data"
    }
   ],
   "execution_count": 27
  },
  {
   "metadata": {
    "ExecuteTime": {
     "end_time": "2024-11-18T09:29:29.940627Z",
     "start_time": "2024-11-18T09:29:27.690372Z"
    }
   },
   "cell_type": "code",
   "source": [
    "# トレーニングモデル\n",
    "model.fit(X_train, y_train, batch_size=32, epochs=20, validation_data=(X_test, y_test))"
   ],
   "id": "77190b260463106d",
   "outputs": [
    {
     "name": "stdout",
     "output_type": "stream",
     "text": [
      "Epoch 1/20\n",
      "\u001B[1m1/1\u001B[0m \u001B[32m━━━━━━━━━━━━━━━━━━━━\u001B[0m\u001B[37m\u001B[0m \u001B[1m2s\u001B[0m 2s/step - loss: nan - val_loss: nan\n",
      "Epoch 2/20\n",
      "\u001B[1m1/1\u001B[0m \u001B[32m━━━━━━━━━━━━━━━━━━━━\u001B[0m\u001B[37m\u001B[0m \u001B[1m0s\u001B[0m 29ms/step - loss: nan - val_loss: nan\n",
      "Epoch 3/20\n",
      "\u001B[1m1/1\u001B[0m \u001B[32m━━━━━━━━━━━━━━━━━━━━\u001B[0m\u001B[37m\u001B[0m \u001B[1m0s\u001B[0m 37ms/step - loss: nan - val_loss: nan\n",
      "Epoch 4/20\n",
      "\u001B[1m1/1\u001B[0m \u001B[32m━━━━━━━━━━━━━━━━━━━━\u001B[0m\u001B[37m\u001B[0m \u001B[1m0s\u001B[0m 27ms/step - loss: nan - val_loss: nan\n",
      "Epoch 5/20\n",
      "\u001B[1m1/1\u001B[0m \u001B[32m━━━━━━━━━━━━━━━━━━━━\u001B[0m\u001B[37m\u001B[0m \u001B[1m0s\u001B[0m 29ms/step - loss: nan - val_loss: nan\n",
      "Epoch 6/20\n",
      "\u001B[1m1/1\u001B[0m \u001B[32m━━━━━━━━━━━━━━━━━━━━\u001B[0m\u001B[37m\u001B[0m \u001B[1m0s\u001B[0m 29ms/step - loss: nan - val_loss: nan\n",
      "Epoch 7/20\n",
      "\u001B[1m1/1\u001B[0m \u001B[32m━━━━━━━━━━━━━━━━━━━━\u001B[0m\u001B[37m\u001B[0m \u001B[1m0s\u001B[0m 31ms/step - loss: nan - val_loss: nan\n",
      "Epoch 8/20\n",
      "\u001B[1m1/1\u001B[0m \u001B[32m━━━━━━━━━━━━━━━━━━━━\u001B[0m\u001B[37m\u001B[0m \u001B[1m0s\u001B[0m 31ms/step - loss: nan - val_loss: nan\n",
      "Epoch 9/20\n",
      "\u001B[1m1/1\u001B[0m \u001B[32m━━━━━━━━━━━━━━━━━━━━\u001B[0m\u001B[37m\u001B[0m \u001B[1m0s\u001B[0m 29ms/step - loss: nan - val_loss: nan\n",
      "Epoch 10/20\n",
      "\u001B[1m1/1\u001B[0m \u001B[32m━━━━━━━━━━━━━━━━━━━━\u001B[0m\u001B[37m\u001B[0m \u001B[1m0s\u001B[0m 30ms/step - loss: nan - val_loss: nan\n",
      "Epoch 11/20\n",
      "\u001B[1m1/1\u001B[0m \u001B[32m━━━━━━━━━━━━━━━━━━━━\u001B[0m\u001B[37m\u001B[0m \u001B[1m0s\u001B[0m 32ms/step - loss: nan - val_loss: nan\n",
      "Epoch 12/20\n",
      "\u001B[1m1/1\u001B[0m \u001B[32m━━━━━━━━━━━━━━━━━━━━\u001B[0m\u001B[37m\u001B[0m \u001B[1m0s\u001B[0m 33ms/step - loss: nan - val_loss: nan\n",
      "Epoch 13/20\n",
      "\u001B[1m1/1\u001B[0m \u001B[32m━━━━━━━━━━━━━━━━━━━━\u001B[0m\u001B[37m\u001B[0m \u001B[1m0s\u001B[0m 30ms/step - loss: nan - val_loss: nan\n",
      "Epoch 14/20\n",
      "\u001B[1m1/1\u001B[0m \u001B[32m━━━━━━━━━━━━━━━━━━━━\u001B[0m\u001B[37m\u001B[0m \u001B[1m0s\u001B[0m 31ms/step - loss: nan - val_loss: nan\n",
      "Epoch 15/20\n",
      "\u001B[1m1/1\u001B[0m \u001B[32m━━━━━━━━━━━━━━━━━━━━\u001B[0m\u001B[37m\u001B[0m \u001B[1m0s\u001B[0m 31ms/step - loss: nan - val_loss: nan\n",
      "Epoch 16/20\n",
      "\u001B[1m1/1\u001B[0m \u001B[32m━━━━━━━━━━━━━━━━━━━━\u001B[0m\u001B[37m\u001B[0m \u001B[1m0s\u001B[0m 31ms/step - loss: nan - val_loss: nan\n",
      "Epoch 17/20\n",
      "\u001B[1m1/1\u001B[0m \u001B[32m━━━━━━━━━━━━━━━━━━━━\u001B[0m\u001B[37m\u001B[0m \u001B[1m0s\u001B[0m 30ms/step - loss: nan - val_loss: nan\n",
      "Epoch 18/20\n",
      "\u001B[1m1/1\u001B[0m \u001B[32m━━━━━━━━━━━━━━━━━━━━\u001B[0m\u001B[37m\u001B[0m \u001B[1m0s\u001B[0m 34ms/step - loss: nan - val_loss: nan\n",
      "Epoch 19/20\n",
      "\u001B[1m1/1\u001B[0m \u001B[32m━━━━━━━━━━━━━━━━━━━━\u001B[0m\u001B[37m\u001B[0m \u001B[1m0s\u001B[0m 39ms/step - loss: nan - val_loss: nan\n",
      "Epoch 20/20\n",
      "\u001B[1m1/1\u001B[0m \u001B[32m━━━━━━━━━━━━━━━━━━━━\u001B[0m\u001B[37m\u001B[0m \u001B[1m0s\u001B[0m 35ms/step - loss: nan - val_loss: nan\n"
     ]
    },
    {
     "data": {
      "text/plain": [
       "<keras.src.callbacks.history.History at 0x2148d91ad20>"
      ]
     },
     "execution_count": 28,
     "metadata": {},
     "output_type": "execute_result"
    }
   ],
   "execution_count": 28
  },
  {
   "metadata": {
    "ExecuteTime": {
     "end_time": "2024-11-18T09:33:27.778530Z",
     "start_time": "2024-11-18T09:33:27.600838Z"
    }
   },
   "cell_type": "code",
   "source": [
    "# 予測する\n",
    "predictions = model.predict(X_test)"
   ],
   "id": "cc97f4cfeaec3150",
   "outputs": [
    {
     "name": "stdout",
     "output_type": "stream",
     "text": [
      "\u001B[1m1/1\u001B[0m \u001B[32m━━━━━━━━━━━━━━━━━━━━\u001B[0m\u001B[37m\u001B[0m \u001B[1m0s\u001B[0m 135ms/step\n"
     ]
    }
   ],
   "execution_count": 29
  },
  {
   "metadata": {
    "ExecuteTime": {
     "end_time": "2024-11-18T09:36:44.221432Z",
     "start_time": "2024-11-18T09:36:44.216537Z"
    }
   },
   "cell_type": "code",
   "source": [
    "print(f\"X_train shape: {X_train.shape}\")\n",
    "print(f\"X_test shape: {X_test.shape}\")\n"
   ],
   "id": "4e9598f5b3d13b48",
   "outputs": [
    {
     "name": "stdout",
     "output_type": "stream",
     "text": [
      "X_train shape: (32, 3, 1)\n",
      "X_test shape: (8, 3, 1)\n"
     ]
    }
   ],
   "execution_count": 31
  },
  {
   "metadata": {
    "ExecuteTime": {
     "end_time": "2024-11-18T09:39:56.703242Z",
     "start_time": "2024-11-18T09:39:56.698377Z"
    }
   },
   "cell_type": "code",
   "source": [
    "# ターゲット変数 (残差または真の値) を正規化します。\n",
    "y_train_scaled = scaler.fit_transform(y_train.reshape(-1, 1))\n",
    "# テストセットの予測値と真の値を非正規化する\n",
    "predictions = scaler.inverse_transform(predictions.reshape(-1, 1))  # 予測値\n",
    "y_test_original = scaler.inverse_transform(y_test.reshape(-1, 1))  # 真の値"
   ],
   "id": "189df1ee8711b515",
   "outputs": [],
   "execution_count": 33
  },
  {
   "metadata": {
    "ExecuteTime": {
     "end_time": "2024-11-18T09:42:36.995214Z",
     "start_time": "2024-11-18T09:42:36.989366Z"
    }
   },
   "cell_type": "code",
   "source": [
    "# 予測値を整形して非正規化する\n",
    "predictions = predictions.reshape(-1, 1)  #予測値の形状が次であることを確認 (n_samples, 1)\n",
    "predictions = scaler.inverse_transform(predictions)\n",
    "\n",
    "# グラウンドトゥルースの形状を調整して非正規化する\n",
    "y_test_original = y_test.reshape(-1, 1)  # テスト値の形状が次のとおりであることを確認 (n_samples, 1)\n",
    "y_test_original = scaler.inverse_transform(y_test_original)\n",
    "\n",
    "print(\"反归一化后的预测值:\", predictions)\n",
    "print(\"反归一化后的真实值:\", y_test_original)"
   ],
   "id": "d289ac406b618763",
   "outputs": [
    {
     "name": "stdout",
     "output_type": "stream",
     "text": [
      "反归一化后的预测值: [[nan]\n",
      " [nan]\n",
      " [nan]\n",
      " [nan]\n",
      " [nan]\n",
      " [nan]\n",
      " [nan]\n",
      " [nan]]\n",
      "反归一化后的真实值: [[-0.19088494]\n",
      " [-0.10339022]\n",
      " [-0.14657907]\n",
      " [-0.09635198]\n",
      " [-0.1214686 ]\n",
      " [-0.19423088]\n",
      " [-0.14015331]\n",
      " [-0.18125783]]\n"
     ]
    }
   ],
   "execution_count": 34
  },
  {
   "metadata": {
    "ExecuteTime": {
     "end_time": "2024-11-18T09:43:56.886873Z",
     "start_time": "2024-11-18T09:43:56.881946Z"
    }
   },
   "cell_type": "code",
   "source": [
    "# 检查预测值是否包含 NaN 或 Inf\n",
    "print(\"预测值中的 NaN:\", np.isnan(predictions).any())\n",
    "print(\"预测值中的 Inf:\", np.isinf(predictions).any())"
   ],
   "id": "d1b7d804e44a4bbf",
   "outputs": [
    {
     "name": "stdout",
     "output_type": "stream",
     "text": [
      "预测值中的 NaN: True\n",
      "预测值中的 Inf: False\n"
     ]
    }
   ],
   "execution_count": 35
  },
  {
   "metadata": {
    "ExecuteTime": {
     "end_time": "2024-11-18T09:44:15.391271Z",
     "start_time": "2024-11-18T09:44:15.387587Z"
    }
   },
   "cell_type": "code",
   "source": [
    "# 将 NaN 替换为 0\n",
    "predictions = np.nan_to_num(predictions)\n"
   ],
   "id": "740b2405acea7ac0",
   "outputs": [],
   "execution_count": 36
  },
  {
   "metadata": {
    "ExecuteTime": {
     "end_time": "2024-11-18T09:44:41.601079Z",
     "start_time": "2024-11-18T09:44:41.596754Z"
    }
   },
   "cell_type": "code",
   "source": [
    "print(\"归一化最小值:\", scaler.data_min_)\n",
    "print(\"归一化最大值:\", scaler.data_max_)"
   ],
   "id": "66cda34dc1e1fab",
   "outputs": [
    {
     "name": "stdout",
     "output_type": "stream",
     "text": [
      "归一化最小值: [-0.1490215]\n",
      "归一化最大值: [0.2996169]\n"
     ]
    }
   ],
   "execution_count": 37
  },
  {
   "metadata": {
    "ExecuteTime": {
     "end_time": "2024-11-18T09:45:09.959957Z",
     "start_time": "2024-11-18T09:45:09.954135Z"
    }
   },
   "cell_type": "code",
   "source": "predictions = np.clip(predictions, scaler.data_min_, scaler.data_max_)",
   "id": "393619319d35e265",
   "outputs": [],
   "execution_count": 38
  },
  {
   "metadata": {
    "ExecuteTime": {
     "end_time": "2024-11-18T09:45:40.923298Z",
     "start_time": "2024-11-18T09:45:40.918564Z"
    }
   },
   "cell_type": "code",
   "source": "print(\"预测值形状:\", predictions.shape)",
   "id": "8ed56e9c207bd9be",
   "outputs": [
    {
     "name": "stdout",
     "output_type": "stream",
     "text": [
      "预测值形状: (8, 1)\n"
     ]
    }
   ],
   "execution_count": 39
  },
  {
   "metadata": {
    "ExecuteTime": {
     "end_time": "2024-11-18T09:46:43.397750Z",
     "start_time": "2024-11-18T09:46:43.394107Z"
    }
   },
   "cell_type": "code",
   "source": "predictions = predictions.reshape(-1, 1)",
   "id": "a88f32ab14bb4a9c",
   "outputs": [],
   "execution_count": 40
  },
  {
   "metadata": {
    "ExecuteTime": {
     "end_time": "2024-11-18T09:47:10.805500Z",
     "start_time": "2024-11-18T09:47:10.800765Z"
    }
   },
   "cell_type": "code",
   "source": [
    "# 归一化目标变量\n",
    "scaler = MinMaxScaler(feature_range=(0, 1))\n",
    "y_train_scaled = scaler.fit_transform(y_train.reshape(-1, 1))"
   ],
   "id": "a25eca2c0cddf3f8",
   "outputs": [],
   "execution_count": 41
  },
  {
   "metadata": {
    "ExecuteTime": {
     "end_time": "2024-11-18T09:48:37.253855Z",
     "start_time": "2024-11-18T09:48:37.247527Z"
    }
   },
   "cell_type": "code",
   "source": [
    "# 非正規化\n",
    "predictions = scaler.inverse_transform(predictions)\n",
    "y_test_original = scaler.inverse_transform(y_test.reshape(-1, 1))"
   ],
   "id": "afd4f5a50df22151",
   "outputs": [],
   "execution_count": 42
  },
  {
   "metadata": {
    "ExecuteTime": {
     "end_time": "2024-11-18T09:50:23.791712Z",
     "start_time": "2024-11-18T09:50:23.304223Z"
    }
   },
   "cell_type": "code",
   "source": [
    "#予測結果の可視化\n",
    "import matplotlib.pyplot as plt\n",
    "\n",
    "plt.figure(figsize=(10, 6))\n",
    "plt.plot(y_test_original, label='True Values', color='blue')\n",
    "plt.plot(predictions, label='Predictions', color='red')\n",
    "plt.title('Neural Network Predictions on ARIMA Residuals')\n",
    "plt.legend()\n",
    "plt.show()"
   ],
   "id": "96bf62644c4ce8a2",
   "outputs": [
    {
     "data": {
      "text/plain": [
       "<Figure size 1000x600 with 1 Axes>"
      ],
      "image/png": "[encoded data removed]"
     },
     "metadata": {},
     "output_type": "display_data"
    }
   ],
   "execution_count": 43
  },
  {
   "metadata": {
    "ExecuteTime": {
     "end_time": "2024-11-18T10:00:00.350022Z",
     "start_time": "2024-11-18T10:00:00.344277Z"
    }
   },
   "cell_type": "code",
   "source": [
    "from sklearn.metrics import mean_squared_error\n",
    "\n",
    "mse = mean_squared_error(y_test_original, predictions)\n",
    "rmse = np.sqrt(mse)\n",
    "print(f'Mean Squared Error: {mse}')\n",
    "print(f'Root Mean Squared Error: {rmse}')"
   ],
   "id": "1cef11aaef0458d8",
   "outputs": [
    {
     "name": "stdout",
     "output_type": "stream",
     "text": [
      "Mean Squared Error: 0.001316960153032572\n",
      "Root Mean Squared Error: 0.03628994561903575\n"
     ]
    }
   ],
   "execution_count": 46
  },
  {
   "metadata": {
    "ExecuteTime": {
     "end_time": "2024-11-18T10:14:46.910592Z",
     "start_time": "2024-11-18T10:14:46.906097Z"
    }
   },
   "cell_type": "code",
   "source": [
    "# 提取滞后特征\n",
    "look_back = 3  # 滞后步数（需与训练模型时一致）\n",
    "latest_residual = residual[-look_back:]  # 提取最近 3 个残差\n",
    "latest_residual = latest_residual.reshape(1, look_back, 1)  # 调整为 [samples, time_steps, features]"
   ],
   "id": "f5aeae0ad2f009cf",
   "outputs": [],
   "execution_count": 51
  },
  {
   "metadata": {
    "ExecuteTime": {
     "end_time": "2024-11-18T10:15:08.859127Z",
     "start_time": "2024-11-18T10:15:08.783704Z"
    }
   },
   "cell_type": "code",
   "source": [
    "# 使用神经网络模型进行预测\n",
    "predicted_residual = model.predict(latest_residuals)\n",
    "print(f\"神经网络预测的 2023 年残差值: {predicted_residual[0][0]}\")"
   ],
   "id": "e2f3aa1f739b798c",
   "outputs": [
    {
     "ename": "ValueError",
     "evalue": "Exception encountered when calling Sequential.call().\n\n\u001B[1mCannot take the length of shape with unknown rank.\u001B[0m\n\nArguments received by Sequential.call():\n  • inputs=tf.Tensor(shape=<unknown>, dtype=float32)\n  • training=False\n  • mask=None",
     "output_type": "error",
     "traceback": [
      "\u001B[1;31m---------------------------------------------------------------------------\u001B[0m",
      "\u001B[1;31mValueError\u001B[0m                                Traceback (most recent call last)",
      "Cell \u001B[1;32mIn[52], line 2\u001B[0m\n\u001B[0;32m      1\u001B[0m \u001B[38;5;66;03m# 使用神经网络模型进行预测\u001B[39;00m\n\u001B[1;32m----> 2\u001B[0m predicted_residual \u001B[38;5;241m=\u001B[39m model\u001B[38;5;241m.\u001B[39mpredict(latest_residuals)\n\u001B[0;32m      3\u001B[0m \u001B[38;5;28mprint\u001B[39m(\u001B[38;5;124mf\u001B[39m\u001B[38;5;124m\"\u001B[39m\u001B[38;5;124m神经网络预测的 2023 年残差值: \u001B[39m\u001B[38;5;132;01m{\u001B[39;00mpredicted_residual[\u001B[38;5;241m0\u001B[39m][\u001B[38;5;241m0\u001B[39m]\u001B[38;5;132;01m}\u001B[39;00m\u001B[38;5;124m\"\u001B[39m)\n",
      "File \u001B[1;32m~\\miniconda3\\Lib\\site-packages\\keras\\src\\utils\\traceback_utils.py:122\u001B[0m, in \u001B[0;36mfilter_traceback.<locals>.error_handler\u001B[1;34m(*args, **kwargs)\u001B[0m\n\u001B[0;32m    119\u001B[0m     filtered_tb \u001B[38;5;241m=\u001B[39m _process_traceback_frames(e\u001B[38;5;241m.\u001B[39m__traceback__)\n\u001B[0;32m    120\u001B[0m     \u001B[38;5;66;03m# To get the full stack trace, call:\u001B[39;00m\n\u001B[0;32m    121\u001B[0m     \u001B[38;5;66;03m# `keras.config.disable_traceback_filtering()`\u001B[39;00m\n\u001B[1;32m--> 122\u001B[0m     \u001B[38;5;28;01mraise\u001B[39;00m e\u001B[38;5;241m.\u001B[39mwith_traceback(filtered_tb) \u001B[38;5;28;01mfrom\u001B[39;00m \u001B[38;5;28;01mNone\u001B[39;00m\n\u001B[0;32m    123\u001B[0m \u001B[38;5;28;01mfinally\u001B[39;00m:\n\u001B[0;32m    124\u001B[0m     \u001B[38;5;28;01mdel\u001B[39;00m filtered_tb\n",
      "File \u001B[1;32m~\\miniconda3\\Lib\\site-packages\\keras\\src\\utils\\traceback_utils.py:122\u001B[0m, in \u001B[0;36mfilter_traceback.<locals>.error_handler\u001B[1;34m(*args, **kwargs)\u001B[0m\n\u001B[0;32m    119\u001B[0m     filtered_tb \u001B[38;5;241m=\u001B[39m _process_traceback_frames(e\u001B[38;5;241m.\u001B[39m__traceback__)\n\u001B[0;32m    120\u001B[0m     \u001B[38;5;66;03m# To get the full stack trace, call:\u001B[39;00m\n\u001B[0;32m    121\u001B[0m     \u001B[38;5;66;03m# `keras.config.disable_traceback_filtering()`\u001B[39;00m\n\u001B[1;32m--> 122\u001B[0m     \u001B[38;5;28;01mraise\u001B[39;00m e\u001B[38;5;241m.\u001B[39mwith_traceback(filtered_tb) \u001B[38;5;28;01mfrom\u001B[39;00m \u001B[38;5;28;01mNone\u001B[39;00m\n\u001B[0;32m    123\u001B[0m \u001B[38;5;28;01mfinally\u001B[39;00m:\n\u001B[0;32m    124\u001B[0m     \u001B[38;5;28;01mdel\u001B[39;00m filtered_tb\n",
      "\u001B[1;31mValueError\u001B[0m: Exception encountered when calling Sequential.call().\n\n\u001B[1mCannot take the length of shape with unknown rank.\u001B[0m\n\nArguments received by Sequential.call():\n  • inputs=tf.Tensor(shape=<unknown>, dtype=float32)\n  • training=False\n  • mask=None"
     ]
    }
   ],
   "execution_count": 52
  },
  {
   "metadata": {
    "ExecuteTime": {
     "end_time": "2024-11-18T10:16:28.064572Z",
     "start_time": "2024-11-18T10:16:28.046287Z"
    }
   },
   "cell_type": "code",
   "source": [
    "# 检查模型结构\n",
    "model.summary()"
   ],
   "id": "ee9a581b0b55a047",
   "outputs": [
    {
     "data": {
      "text/plain": [
       "\u001B[1mModel: \"sequential\"\u001B[0m\n"
      ],
      "text/html": [
       "<pre style=\"white-space:pre;overflow-x:auto;line-height:normal;font-family:Menlo,'DejaVu Sans Mono',consolas,'Courier New',monospace\"><span style=\"font-weight: bold\">Model: \"sequential\"</span>\n",
       "</pre>\n"
      ]
     },
     "metadata": {},
     "output_type": "display_data"
    },
    {
     "data": {
      "text/plain": [
       "┏━━━━━━━━━━━━━━━━━━━━━━━━━━━━━━━━━┳━━━━━━━━━━━━━━━━━━━━━━━━┳━━━━━━━━━━━━━━━┓\n",
       "┃\u001B[1m \u001B[0m\u001B[1mLayer (type)                   \u001B[0m\u001B[1m \u001B[0m┃\u001B[1m \u001B[0m\u001B[1mOutput Shape          \u001B[0m\u001B[1m \u001B[0m┃\u001B[1m \u001B[0m\u001B[1m      Param #\u001B[0m\u001B[1m \u001B[0m┃\n",
       "┡━━━━━━━━━━━━━━━━━━━━━━━━━━━━━━━━━╇━━━━━━━━━━━━━━━━━━━━━━━━╇━━━━━━━━━━━━━━━┩\n",
       "│ lstm (\u001B[38;5;33mLSTM\u001B[0m)                     │ (\u001B[38;5;45mNone\u001B[0m, \u001B[38;5;34m3\u001B[0m, \u001B[38;5;34m50\u001B[0m)          │        \u001B[38;5;34m10,400\u001B[0m │\n",
       "├─────────────────────────────────┼────────────────────────┼───────────────┤\n",
       "│ lstm_1 (\u001B[38;5;33mLSTM\u001B[0m)                   │ (\u001B[38;5;45mNone\u001B[0m, \u001B[38;5;34m50\u001B[0m)             │        \u001B[38;5;34m20,200\u001B[0m │\n",
       "├─────────────────────────────────┼────────────────────────┼───────────────┤\n",
       "│ dense (\u001B[38;5;33mDense\u001B[0m)                   │ (\u001B[38;5;45mNone\u001B[0m, \u001B[38;5;34m25\u001B[0m)             │         \u001B[38;5;34m1,275\u001B[0m │\n",
       "├─────────────────────────────────┼────────────────────────┼───────────────┤\n",
       "│ dense_1 (\u001B[38;5;33mDense\u001B[0m)                 │ (\u001B[38;5;45mNone\u001B[0m, \u001B[38;5;34m1\u001B[0m)              │            \u001B[38;5;34m26\u001B[0m │\n",
       "└─────────────────────────────────┴────────────────────────┴───────────────┘\n"
      ],
      "text/html": [
       "<pre style=\"white-space:pre;overflow-x:auto;line-height:normal;font-family:Menlo,'DejaVu Sans Mono',consolas,'Courier New',monospace\">┏━━━━━━━━━━━━━━━━━━━━━━━━━━━━━━━━━┳━━━━━━━━━━━━━━━━━━━━━━━━┳━━━━━━━━━━━━━━━┓\n",
       "┃<span style=\"font-weight: bold\"> Layer (type)                    </span>┃<span style=\"font-weight: bold\"> Output Shape           </span>┃<span style=\"font-weight: bold\">       Param # </span>┃\n",
       "┡━━━━━━━━━━━━━━━━━━━━━━━━━━━━━━━━━╇━━━━━━━━━━━━━━━━━━━━━━━━╇━━━━━━━━━━━━━━━┩\n",
       "│ lstm (<span style=\"color: #0087ff; text-decoration-color: #0087ff\">LSTM</span>)                     │ (<span style=\"color: #00d7ff; text-decoration-color: #00d7ff\">None</span>, <span style=\"color: #00af00; text-decoration-color: #00af00\">3</span>, <span style=\"color: #00af00; text-decoration-color: #00af00\">50</span>)          │        <span style=\"color: #00af00; text-decoration-color: #00af00\">10,400</span> │\n",
       "├─────────────────────────────────┼────────────────────────┼───────────────┤\n",
       "│ lstm_1 (<span style=\"color: #0087ff; text-decoration-color: #0087ff\">LSTM</span>)                   │ (<span style=\"color: #00d7ff; text-decoration-color: #00d7ff\">None</span>, <span style=\"color: #00af00; text-decoration-color: #00af00\">50</span>)             │        <span style=\"color: #00af00; text-decoration-color: #00af00\">20,200</span> │\n",
       "├─────────────────────────────────┼────────────────────────┼───────────────┤\n",
       "│ dense (<span style=\"color: #0087ff; text-decoration-color: #0087ff\">Dense</span>)                   │ (<span style=\"color: #00d7ff; text-decoration-color: #00d7ff\">None</span>, <span style=\"color: #00af00; text-decoration-color: #00af00\">25</span>)             │         <span style=\"color: #00af00; text-decoration-color: #00af00\">1,275</span> │\n",
       "├─────────────────────────────────┼────────────────────────┼───────────────┤\n",
       "│ dense_1 (<span style=\"color: #0087ff; text-decoration-color: #0087ff\">Dense</span>)                 │ (<span style=\"color: #00d7ff; text-decoration-color: #00d7ff\">None</span>, <span style=\"color: #00af00; text-decoration-color: #00af00\">1</span>)              │            <span style=\"color: #00af00; text-decoration-color: #00af00\">26</span> │\n",
       "└─────────────────────────────────┴────────────────────────┴───────────────┘\n",
       "</pre>\n"
      ]
     },
     "metadata": {},
     "output_type": "display_data"
    },
    {
     "data": {
      "text/plain": [
       "\u001B[1m Total params: \u001B[0m\u001B[38;5;34m95,705\u001B[0m (373.85 KB)\n"
      ],
      "text/html": [
       "<pre style=\"white-space:pre;overflow-x:auto;line-height:normal;font-family:Menlo,'DejaVu Sans Mono',consolas,'Courier New',monospace\"><span style=\"font-weight: bold\"> Total params: </span><span style=\"color: #00af00; text-decoration-color: #00af00\">95,705</span> (373.85 KB)\n",
       "</pre>\n"
      ]
     },
     "metadata": {},
     "output_type": "display_data"
    },
    {
     "data": {
      "text/plain": [
       "\u001B[1m Trainable params: \u001B[0m\u001B[38;5;34m31,901\u001B[0m (124.61 KB)\n"
      ],
      "text/html": [
       "<pre style=\"white-space:pre;overflow-x:auto;line-height:normal;font-family:Menlo,'DejaVu Sans Mono',consolas,'Courier New',monospace\"><span style=\"font-weight: bold\"> Trainable params: </span><span style=\"color: #00af00; text-decoration-color: #00af00\">31,901</span> (124.61 KB)\n",
       "</pre>\n"
      ]
     },
     "metadata": {},
     "output_type": "display_data"
    },
    {
     "data": {
      "text/plain": [
       "\u001B[1m Non-trainable params: \u001B[0m\u001B[38;5;34m0\u001B[0m (0.00 B)\n"
      ],
      "text/html": [
       "<pre style=\"white-space:pre;overflow-x:auto;line-height:normal;font-family:Menlo,'DejaVu Sans Mono',consolas,'Courier New',monospace\"><span style=\"font-weight: bold\"> Non-trainable params: </span><span style=\"color: #00af00; text-decoration-color: #00af00\">0</span> (0.00 B)\n",
       "</pre>\n"
      ]
     },
     "metadata": {},
     "output_type": "display_data"
    },
    {
     "data": {
      "text/plain": [
       "\u001B[1m Optimizer params: \u001B[0m\u001B[38;5;34m63,804\u001B[0m (249.24 KB)\n"
      ],
      "text/html": [
       "<pre style=\"white-space:pre;overflow-x:auto;line-height:normal;font-family:Menlo,'DejaVu Sans Mono',consolas,'Courier New',monospace\"><span style=\"font-weight: bold\"> Optimizer params: </span><span style=\"color: #00af00; text-decoration-color: #00af00\">63,804</span> (249.24 KB)\n",
       "</pre>\n"
      ]
     },
     "metadata": {},
     "output_type": "display_data"
    }
   ],
   "execution_count": 53
  },
  {
   "metadata": {
    "ExecuteTime": {
     "end_time": "2024-11-18T10:20:53.516374Z",
     "start_time": "2024-11-18T10:20:53.511673Z"
    }
   },
   "cell_type": "code",
   "source": [
    "# 假设 residuals 是一个包含残差值的数组\n",
    "latest_residual = residual[-3:]  # 提取最近 3 个滞后值\n",
    "latest_residual = latest_residual.reshape(1, 3, 1)  # 调整为 (batch_size=1, time_steps=3, features=1)\n"
   ],
   "id": "ec1eda05d3dec1f3",
   "outputs": [],
   "execution_count": 55
  },
  {
   "metadata": {
    "ExecuteTime": {
     "end_time": "2024-11-18T10:21:06.068654Z",
     "start_time": "2024-11-18T10:21:06.063942Z"
    }
   },
   "cell_type": "code",
   "source": "print(f\"输入数据的形状: {latest_residuals.shape}\")",
   "id": "43a53623f45cede0",
   "outputs": [
    {
     "name": "stdout",
     "output_type": "stream",
     "text": [
      "输入数据的形状: (3,)\n"
     ]
    }
   ],
   "execution_count": 56
  },
  {
   "metadata": {
    "ExecuteTime": {
     "end_time": "2024-11-18T10:22:46.483667Z",
     "start_time": "2024-11-18T10:22:46.478572Z"
    }
   },
   "cell_type": "code",
   "source": [
    "# 假设 residuals[-3:] 是最近的 3 个滞后残差\n",
    "latest_residual = residual[-3:]  # 获取最近的 3 个残差\n",
    "latest_residual = latest_residual.reshape(1, 3, 1)  # 调整为 (batch_size=1, time_steps=3, features=1)\n",
    "\n",
    "# 检查调整后的形状\n",
    "print(f\"调整后的输入数据形状: {latest_residual.shape}\")"
   ],
   "id": "c1510e90f7848a06",
   "outputs": [
    {
     "name": "stdout",
     "output_type": "stream",
     "text": [
      "调整后的输入数据形状: (1, 3, 1)\n"
     ]
    }
   ],
   "execution_count": 58
  },
  {
   "metadata": {
    "ExecuteTime": {
     "end_time": "2024-11-18T10:27:37.715833Z",
     "start_time": "2024-11-18T10:27:37.659887Z"
    }
   },
   "cell_type": "code",
   "source": [
    "# 使用神经网络模型预测\n",
    "predicted_residual = model.predict(latest_residual)\n",
    "\n",
    "# 打印预测结果\n",
    "print(f\"神经网络预测的 2023 年残差值: {predicted_residual[0][0]}\")"
   ],
   "id": "999561b4dc66af25",
   "outputs": [
    {
     "name": "stdout",
     "output_type": "stream",
     "text": [
      "\u001B[1m1/1\u001B[0m \u001B[32m━━━━━━━━━━━━━━━━━━━━\u001B[0m\u001B[37m\u001B[0m \u001B[1m0s\u001B[0m 14ms/step\n",
      "神经网络预测的 2023 年残差值: nan\n"
     ]
    }
   ],
   "execution_count": 62
  },
  {
   "metadata": {
    "ExecuteTime": {
     "end_time": "2024-11-18T10:57:37.403238Z",
     "start_time": "2024-11-18T10:57:36.910673Z"
    }
   },
   "cell_type": "code",
   "source": [
    "import pandas as pd\n",
    "import numpy as np\n",
    "\n",
    "# 加载残差数据\n",
    "residuals = pd.read_excel(\"Resid.xlsx\")  # 确保文件路径正确\n",
    "residuals = residuals['Residuals'].values  # 转换为 NumPy 数组\n",
    "\n",
    "# 检查数据\n",
    "print(\"残差数据:\", residuals)\n",
    "print(\"残差数据形状:\", residuals.shape)"
   ],
   "id": "1e70e68d3b370ed6",
   "outputs": [
    {
     "name": "stdout",
     "output_type": "stream",
     "text": [
      "残差数据: [       nan -0.1058038 -0.0548284 -0.0717091  0.0190537 -0.094351\n",
      "  0.1006633  0.0614145  0.0574312 -0.049983   0.0016827  0.2538864\n",
      "  0.0201152  0.0871476  0.2996169 -0.1007702 -0.1490215 -0.0396324\n",
      "  0.0054441  0.1017106 -0.0618232  0.1711903 -0.0933122  0.1216526\n",
      "  0.008783   0.062648  -0.0931566 -0.0102034 -0.0726138  0.1173986\n",
      " -0.0718537 -0.0245493 -0.0413057 -0.0331649 -0.0840103 -0.0361076\n",
      " -0.0082263 -0.0255107 -0.0228548 -0.0882552  0.0197669 -0.0126801\n",
      " -0.0083615]\n",
      "残差数据形状: (43,)\n"
     ]
    }
   ],
   "execution_count": 1
  },
  {
   "metadata": {
    "ExecuteTime": {
     "end_time": "2024-11-18T10:29:01.865027Z",
     "start_time": "2024-11-18T10:29:01.859846Z"
    }
   },
   "cell_type": "code",
   "source": [
    "# 构造滞后输入\n",
    "look_back = 3\n",
    "latest_residuals = residuals[-look_back:]  # 提取最近的 3 个残差\n",
    "latest_residuals = latest_residuals.reshape(1, look_back, 1)  # 调整形状为 (1, 3, 1)\n",
    "\n",
    "# 检查输入形状\n",
    "print(\"最新滞后残差输入形状:\", latest_residuals.shape)\n",
    "print(\"最新滞后残差数据:\", latest_residuals)"
   ],
   "id": "cf95c03fa07aab0b",
   "outputs": [
    {
     "name": "stdout",
     "output_type": "stream",
     "text": [
      "最新滞后残差输入形状: (1, 3, 1)\n",
      "最新滞后残差数据: [[[ 0.0197669]\n",
      "  [-0.0126801]\n",
      "  [-0.0083615]]]\n"
     ]
    }
   ],
   "execution_count": 66
  },
  {
   "metadata": {
    "ExecuteTime": {
     "end_time": "2024-11-18T10:30:23.647978Z",
     "start_time": "2024-11-18T10:30:23.644294Z"
    }
   },
   "cell_type": "code",
   "source": [
    "look_back = 3\n",
    "latest_residuals = residuals[-look_back:].reshape(1, look_back, 1)  # 提取最近 3 个残差，调整形状为 (1, 3, 1)\n"
   ],
   "id": "a3af580341b3dfee",
   "outputs": [],
   "execution_count": 68
  },
  {
   "metadata": {
    "ExecuteTime": {
     "end_time": "2024-11-18T10:30:40.502904Z",
     "start_time": "2024-11-18T10:30:40.459480Z"
    }
   },
   "cell_type": "code",
   "source": [
    "# 3. 定义或加载训练好的神经网络模型\n",
    "model = Sequential()\n",
    "model.add(LSTM(50, return_sequences=True, input_shape=(3, 1)))\n",
    "model.add(LSTM(50, return_sequences=False))\n",
    "model.add(Dense(25))\n",
    "model.add(Dense(1))  # 输出层\n",
    "model.compile(optimizer='adam', loss='mean_squared_error')\n"
   ],
   "id": "d9f7852d360f1717",
   "outputs": [
    {
     "name": "stderr",
     "output_type": "stream",
     "text": [
      "C:\\Users\\chenyan\\miniconda3\\Lib\\site-packages\\keras\\src\\layers\\rnn\\rnn.py:204: UserWarning: Do not pass an `input_shape`/`input_dim` argument to a layer. When using Sequential models, prefer using an `Input(shape)` object as the first layer in the model instead.\n",
      "  super().__init__(**kwargs)\n"
     ]
    }
   ],
   "execution_count": 69
  },
  {
   "metadata": {
    "ExecuteTime": {
     "end_time": "2024-11-18T10:31:06.261764Z",
     "start_time": "2024-11-18T10:31:06.075766Z"
    }
   },
   "cell_type": "code",
   "source": [
    "predicted_residual = model.predict(latest_residuals)\n",
    "print(f\"ニューラルネットワークによる2023年の残存価値予測: {predicted_residual[0][0]}\")\n"
   ],
   "id": "cafb31cb6904e836",
   "outputs": [
    {
     "name": "stdout",
     "output_type": "stream",
     "text": [
      "\u001B[1m1/1\u001B[0m \u001B[32m━━━━━━━━━━━━━━━━━━━━\u001B[0m\u001B[37m\u001B[0m \u001B[1m0s\u001B[0m 152ms/step\n",
      "神经网络预测的 2023 年残差值: -2.6123980205738917e-05\n"
     ]
    }
   ],
   "execution_count": 70
  },
  {
   "metadata": {
    "ExecuteTime": {
     "end_time": "2024-11-18T11:02:25.986775Z",
     "start_time": "2024-11-18T11:02:22.703225Z"
    }
   },
   "cell_type": "code",
   "source": [
    "import pandas as pd\n",
    "import numpy as np\n",
    "from tensorflow.keras.models import Sequential\n",
    "from tensorflow.keras.layers import LSTM, Dense\n",
    "from sklearn.preprocessing import MinMaxScaler\n",
    "from sklearn.model_selection import train_test_split\n",
    "\n",
    "# 1. 加载残差数据\n",
    "residuals = pd.read_excel(\"Resid.xlsx\")  # 确保文件路径正确\n",
    "residuals = residuals['Residuals'].values  # 转换为 NumPy 数组\n",
    "residuals = np.nan_to_num(residuals, nan=0.0, posinf=0.0, neginf=0.0)\n",
    "# 检查数据\n",
    "print(\"残差数据:\", residuals)\n",
    "print(\"残差数据形状:\", residuals.shape)\n",
    "\n",
    "# 2. 数据归一化\n",
    "scaler = MinMaxScaler(feature_range=(0, 1))  # 将数据归一化到 [0, 1] 范围\n",
    "residuals_scaled = scaler.fit_transform(residuals.reshape(-1, 1))\n",
    "\n",
    "# 3. 构造时间序列数据集（滞后步数）\n",
    "def create_dataset(dataset, look_back=3):\n",
    "    X, y = [], []\n",
    "    for i in range(len(dataset) - look_back):\n",
    "        X.append(dataset[i:(i + look_back), 0])\n",
    "        y.append(dataset[i + look_back, 0])\n",
    "    return np.array(X), np.array(y)\n",
    "\n",
    "look_back = 3  # 滞后步数\n",
    "X, y = create_dataset(residuals_scaled, look_back)\n",
    "\n",
    "# 调整输入数据的形状为 (samples, time_steps, features)\n",
    "X = X.reshape(X.shape[0], look_back, 1)\n",
    "\n",
    "# 检查数据形状\n",
    "print(f\"输入特征 X 的形状: {X.shape}\")\n",
    "print(f\"目标变量 y 的形状: {y.shape}\")\n",
    "\n",
    "# 4. 划分训练集和测试集\n",
    "X_train, X_test, y_train, y_test = train_test_split(X, y, test_size=0.2, random_state=42)\n",
    "\n",
    "# 5. 定义 LSTM 神经网络模型\n",
    "model = Sequential()\n",
    "model.add(LSTM(50, return_sequences=True, input_shape=(look_back, 1)))  # 第一层 LSTM\n",
    "model.add(LSTM(50, return_sequences=False))  # 第二层 LSTM\n",
    "model.add(Dense(25))  # 全连接层\n",
    "model.add(Dense(1))  # 输出层\n",
    "model.compile(optimizer='adam', loss='mean_squared_error')\n",
    "\n",
    "# 打印模型结构\n",
    "model.summary()\n",
    "\n",
    "# 6. 模型训练\n",
    "history = model.fit(X_train, y_train, epochs=50, batch_size=16, validation_data=(X_test, y_test), verbose=1)\n",
    "\n",
    "# 7. 评估模型性能\n",
    "train_loss = model.evaluate(X_train, y_train, verbose=0)\n",
    "test_loss = model.evaluate(X_test, y_test, verbose=0)\n",
    "print(f\"训练集损失: {train_loss}\")\n",
    "print(f\"测试集损失: {test_loss}\")\n",
    "\n",
    "# 8. 保存模型\n",
    "model.save(\"lstm_residual_model.h5\")\n",
    "print(\"模型已保存。\")"
   ],
   "id": "c4ef83e7fbb92805",
   "outputs": [
    {
     "name": "stdout",
     "output_type": "stream",
     "text": [
      "残差数据: [ 0.        -0.1058038 -0.0548284 -0.0717091  0.0190537 -0.094351\n",
      "  0.1006633  0.0614145  0.0574312 -0.049983   0.0016827  0.2538864\n",
      "  0.0201152  0.0871476  0.2996169 -0.1007702 -0.1490215 -0.0396324\n",
      "  0.0054441  0.1017106 -0.0618232  0.1711903 -0.0933122  0.1216526\n",
      "  0.008783   0.062648  -0.0931566 -0.0102034 -0.0726138  0.1173986\n",
      " -0.0718537 -0.0245493 -0.0413057 -0.0331649 -0.0840103 -0.0361076\n",
      " -0.0082263 -0.0255107 -0.0228548 -0.0882552  0.0197669 -0.0126801\n",
      " -0.0083615]\n",
      "残差数据形状: (43,)\n",
      "输入特征 X 的形状: (40, 3, 1)\n",
      "目标变量 y 的形状: (40,)\n"
     ]
    },
    {
     "name": "stderr",
     "output_type": "stream",
     "text": [
      "C:\\Users\\chenyan\\miniconda3\\Lib\\site-packages\\keras\\src\\layers\\rnn\\rnn.py:204: UserWarning: Do not pass an `input_shape`/`input_dim` argument to a layer. When using Sequential models, prefer using an `Input(shape)` object as the first layer in the model instead.\n",
      "  super().__init__(**kwargs)\n"
     ]
    },
    {
     "data": {
      "text/plain": [
       "\u001B[1mModel: \"sequential_2\"\u001B[0m\n"
      ],
      "text/html": [
       "<pre style=\"white-space:pre;overflow-x:auto;line-height:normal;font-family:Menlo,'DejaVu Sans Mono',consolas,'Courier New',monospace\"><span style=\"font-weight: bold\">Model: \"sequential_2\"</span>\n",
       "</pre>\n"
      ]
     },
     "metadata": {},
     "output_type": "display_data"
    },
    {
     "data": {
      "text/plain": [
       "┏━━━━━━━━━━━━━━━━━━━━━━━━━━━━━━━━━┳━━━━━━━━━━━━━━━━━━━━━━━━┳━━━━━━━━━━━━━━━┓\n",
       "┃\u001B[1m \u001B[0m\u001B[1mLayer (type)                   \u001B[0m\u001B[1m \u001B[0m┃\u001B[1m \u001B[0m\u001B[1mOutput Shape          \u001B[0m\u001B[1m \u001B[0m┃\u001B[1m \u001B[0m\u001B[1m      Param #\u001B[0m\u001B[1m \u001B[0m┃\n",
       "┡━━━━━━━━━━━━━━━━━━━━━━━━━━━━━━━━━╇━━━━━━━━━━━━━━━━━━━━━━━━╇━━━━━━━━━━━━━━━┩\n",
       "│ lstm_4 (\u001B[38;5;33mLSTM\u001B[0m)                   │ (\u001B[38;5;45mNone\u001B[0m, \u001B[38;5;34m3\u001B[0m, \u001B[38;5;34m50\u001B[0m)          │        \u001B[38;5;34m10,400\u001B[0m │\n",
       "├─────────────────────────────────┼────────────────────────┼───────────────┤\n",
       "│ lstm_5 (\u001B[38;5;33mLSTM\u001B[0m)                   │ (\u001B[38;5;45mNone\u001B[0m, \u001B[38;5;34m50\u001B[0m)             │        \u001B[38;5;34m20,200\u001B[0m │\n",
       "├─────────────────────────────────┼────────────────────────┼───────────────┤\n",
       "│ dense_4 (\u001B[38;5;33mDense\u001B[0m)                 │ (\u001B[38;5;45mNone\u001B[0m, \u001B[38;5;34m25\u001B[0m)             │         \u001B[38;5;34m1,275\u001B[0m │\n",
       "├─────────────────────────────────┼────────────────────────┼───────────────┤\n",
       "│ dense_5 (\u001B[38;5;33mDense\u001B[0m)                 │ (\u001B[38;5;45mNone\u001B[0m, \u001B[38;5;34m1\u001B[0m)              │            \u001B[38;5;34m26\u001B[0m │\n",
       "└─────────────────────────────────┴────────────────────────┴───────────────┘\n"
      ],
      "text/html": [
       "<pre style=\"white-space:pre;overflow-x:auto;line-height:normal;font-family:Menlo,'DejaVu Sans Mono',consolas,'Courier New',monospace\">┏━━━━━━━━━━━━━━━━━━━━━━━━━━━━━━━━━┳━━━━━━━━━━━━━━━━━━━━━━━━┳━━━━━━━━━━━━━━━┓\n",
       "┃<span style=\"font-weight: bold\"> Layer (type)                    </span>┃<span style=\"font-weight: bold\"> Output Shape           </span>┃<span style=\"font-weight: bold\">       Param # </span>┃\n",
       "┡━━━━━━━━━━━━━━━━━━━━━━━━━━━━━━━━━╇━━━━━━━━━━━━━━━━━━━━━━━━╇━━━━━━━━━━━━━━━┩\n",
       "│ lstm_4 (<span style=\"color: #0087ff; text-decoration-color: #0087ff\">LSTM</span>)                   │ (<span style=\"color: #00d7ff; text-decoration-color: #00d7ff\">None</span>, <span style=\"color: #00af00; text-decoration-color: #00af00\">3</span>, <span style=\"color: #00af00; text-decoration-color: #00af00\">50</span>)          │        <span style=\"color: #00af00; text-decoration-color: #00af00\">10,400</span> │\n",
       "├─────────────────────────────────┼────────────────────────┼───────────────┤\n",
       "│ lstm_5 (<span style=\"color: #0087ff; text-decoration-color: #0087ff\">LSTM</span>)                   │ (<span style=\"color: #00d7ff; text-decoration-color: #00d7ff\">None</span>, <span style=\"color: #00af00; text-decoration-color: #00af00\">50</span>)             │        <span style=\"color: #00af00; text-decoration-color: #00af00\">20,200</span> │\n",
       "├─────────────────────────────────┼────────────────────────┼───────────────┤\n",
       "│ dense_4 (<span style=\"color: #0087ff; text-decoration-color: #0087ff\">Dense</span>)                 │ (<span style=\"color: #00d7ff; text-decoration-color: #00d7ff\">None</span>, <span style=\"color: #00af00; text-decoration-color: #00af00\">25</span>)             │         <span style=\"color: #00af00; text-decoration-color: #00af00\">1,275</span> │\n",
       "├─────────────────────────────────┼────────────────────────┼───────────────┤\n",
       "│ dense_5 (<span style=\"color: #0087ff; text-decoration-color: #0087ff\">Dense</span>)                 │ (<span style=\"color: #00d7ff; text-decoration-color: #00d7ff\">None</span>, <span style=\"color: #00af00; text-decoration-color: #00af00\">1</span>)              │            <span style=\"color: #00af00; text-decoration-color: #00af00\">26</span> │\n",
       "└─────────────────────────────────┴────────────────────────┴───────────────┘\n",
       "</pre>\n"
      ]
     },
     "metadata": {},
     "output_type": "display_data"
    },
    {
     "data": {
      "text/plain": [
       "\u001B[1m Total params: \u001B[0m\u001B[38;5;34m31,901\u001B[0m (124.61 KB)\n"
      ],
      "text/html": [
       "<pre style=\"white-space:pre;overflow-x:auto;line-height:normal;font-family:Menlo,'DejaVu Sans Mono',consolas,'Courier New',monospace\"><span style=\"font-weight: bold\"> Total params: </span><span style=\"color: #00af00; text-decoration-color: #00af00\">31,901</span> (124.61 KB)\n",
       "</pre>\n"
      ]
     },
     "metadata": {},
     "output_type": "display_data"
    },
    {
     "data": {
      "text/plain": [
       "\u001B[1m Trainable params: \u001B[0m\u001B[38;5;34m31,901\u001B[0m (124.61 KB)\n"
      ],
      "text/html": [
       "<pre style=\"white-space:pre;overflow-x:auto;line-height:normal;font-family:Menlo,'DejaVu Sans Mono',consolas,'Courier New',monospace\"><span style=\"font-weight: bold\"> Trainable params: </span><span style=\"color: #00af00; text-decoration-color: #00af00\">31,901</span> (124.61 KB)\n",
       "</pre>\n"
      ]
     },
     "metadata": {},
     "output_type": "display_data"
    },
    {
     "data": {
      "text/plain": [
       "\u001B[1m Non-trainable params: \u001B[0m\u001B[38;5;34m0\u001B[0m (0.00 B)\n"
      ],
      "text/html": [
       "<pre style=\"white-space:pre;overflow-x:auto;line-height:normal;font-family:Menlo,'DejaVu Sans Mono',consolas,'Courier New',monospace\"><span style=\"font-weight: bold\"> Non-trainable params: </span><span style=\"color: #00af00; text-decoration-color: #00af00\">0</span> (0.00 B)\n",
       "</pre>\n"
      ]
     },
     "metadata": {},
     "output_type": "display_data"
    },
    {
     "name": "stdout",
     "output_type": "stream",
     "text": [
      "Epoch 1/50\n",
      "\u001B[1m2/2\u001B[0m \u001B[32m━━━━━━━━━━━━━━━━━━━━\u001B[0m\u001B[37m\u001B[0m \u001B[1m1s\u001B[0m 204ms/step - loss: 0.1810 - val_loss: 0.1252\n",
      "Epoch 2/50\n",
      "\u001B[1m2/2\u001B[0m \u001B[32m━━━━━━━━━━━━━━━━━━━━\u001B[0m\u001B[37m\u001B[0m \u001B[1m0s\u001B[0m 25ms/step - loss: 0.1225 - val_loss: 0.1034\n",
      "Epoch 3/50\n",
      "\u001B[1m2/2\u001B[0m \u001B[32m━━━━━━━━━━━━━━━━━━━━\u001B[0m\u001B[37m\u001B[0m \u001B[1m0s\u001B[0m 16ms/step - loss: 0.1107 - val_loss: 0.0837\n",
      "Epoch 4/50\n",
      "\u001B[1m2/2\u001B[0m \u001B[32m━━━━━━━━━━━━━━━━━━━━\u001B[0m\u001B[37m\u001B[0m \u001B[1m0s\u001B[0m 19ms/step - loss: 0.1000 - val_loss: 0.0668\n",
      "Epoch 5/50\n",
      "\u001B[1m2/2\u001B[0m \u001B[32m━━━━━━━━━━━━━━━━━━━━\u001B[0m\u001B[37m\u001B[0m \u001B[1m0s\u001B[0m 16ms/step - loss: 0.0719 - val_loss: 0.0540\n",
      "Epoch 6/50\n",
      "\u001B[1m2/2\u001B[0m \u001B[32m━━━━━━━━━━━━━━━━━━━━\u001B[0m\u001B[37m\u001B[0m \u001B[1m0s\u001B[0m 20ms/step - loss: 0.0575 - val_loss: 0.0468\n",
      "Epoch 7/50\n",
      "\u001B[1m2/2\u001B[0m \u001B[32m━━━━━━━━━━━━━━━━━━━━\u001B[0m\u001B[37m\u001B[0m \u001B[1m0s\u001B[0m 17ms/step - loss: 0.0499 - val_loss: 0.0466\n",
      "Epoch 8/50\n",
      "\u001B[1m2/2\u001B[0m \u001B[32m━━━━━━━━━━━━━━━━━━━━\u001B[0m\u001B[37m\u001B[0m \u001B[1m0s\u001B[0m 18ms/step - loss: 0.0434 - val_loss: 0.0512\n",
      "Epoch 9/50\n",
      "\u001B[1m2/2\u001B[0m \u001B[32m━━━━━━━━━━━━━━━━━━━━\u001B[0m\u001B[37m\u001B[0m \u001B[1m0s\u001B[0m 15ms/step - loss: 0.0478 - val_loss: 0.0542\n",
      "Epoch 10/50\n",
      "\u001B[1m2/2\u001B[0m \u001B[32m━━━━━━━━━━━━━━━━━━━━\u001B[0m\u001B[37m\u001B[0m \u001B[1m0s\u001B[0m 16ms/step - loss: 0.0517 - val_loss: 0.0541\n",
      "Epoch 11/50\n",
      "\u001B[1m2/2\u001B[0m \u001B[32m━━━━━━━━━━━━━━━━━━━━\u001B[0m\u001B[37m\u001B[0m \u001B[1m0s\u001B[0m 17ms/step - loss: 0.0569 - val_loss: 0.0519\n",
      "Epoch 12/50\n",
      "\u001B[1m2/2\u001B[0m \u001B[32m━━━━━━━━━━━━━━━━━━━━\u001B[0m\u001B[37m\u001B[0m \u001B[1m0s\u001B[0m 16ms/step - loss: 0.0419 - val_loss: 0.0487\n",
      "Epoch 13/50\n",
      "\u001B[1m2/2\u001B[0m \u001B[32m━━━━━━━━━━━━━━━━━━━━\u001B[0m\u001B[37m\u001B[0m \u001B[1m0s\u001B[0m 19ms/step - loss: 0.0495 - val_loss: 0.0463\n",
      "Epoch 14/50\n",
      "\u001B[1m2/2\u001B[0m \u001B[32m━━━━━━━━━━━━━━━━━━━━\u001B[0m\u001B[37m\u001B[0m \u001B[1m0s\u001B[0m 18ms/step - loss: 0.0448 - val_loss: 0.0453\n",
      "Epoch 15/50\n",
      "\u001B[1m2/2\u001B[0m \u001B[32m━━━━━━━━━━━━━━━━━━━━\u001B[0m\u001B[37m\u001B[0m \u001B[1m0s\u001B[0m 16ms/step - loss: 0.0448 - val_loss: 0.0452\n",
      "Epoch 16/50\n",
      "\u001B[1m2/2\u001B[0m \u001B[32m━━━━━━━━━━━━━━━━━━━━\u001B[0m\u001B[37m\u001B[0m \u001B[1m0s\u001B[0m 16ms/step - loss: 0.0460 - val_loss: 0.0454\n",
      "Epoch 17/50\n",
      "\u001B[1m2/2\u001B[0m \u001B[32m━━━━━━━━━━━━━━━━━━━━\u001B[0m\u001B[37m\u001B[0m \u001B[1m0s\u001B[0m 15ms/step - loss: 0.0439 - val_loss: 0.0455\n",
      "Epoch 18/50\n",
      "\u001B[1m2/2\u001B[0m \u001B[32m━━━━━━━━━━━━━━━━━━━━\u001B[0m\u001B[37m\u001B[0m \u001B[1m0s\u001B[0m 16ms/step - loss: 0.0467 - val_loss: 0.0455\n",
      "Epoch 19/50\n",
      "\u001B[1m2/2\u001B[0m \u001B[32m━━━━━━━━━━━━━━━━━━━━\u001B[0m\u001B[37m\u001B[0m \u001B[1m0s\u001B[0m 16ms/step - loss: 0.0487 - val_loss: 0.0454\n",
      "Epoch 20/50\n",
      "\u001B[1m2/2\u001B[0m \u001B[32m━━━━━━━━━━━━━━━━━━━━\u001B[0m\u001B[37m\u001B[0m \u001B[1m0s\u001B[0m 15ms/step - loss: 0.0539 - val_loss: 0.0451\n",
      "Epoch 21/50\n",
      "\u001B[1m2/2\u001B[0m \u001B[32m━━━━━━━━━━━━━━━━━━━━\u001B[0m\u001B[37m\u001B[0m \u001B[1m0s\u001B[0m 15ms/step - loss: 0.0546 - val_loss: 0.0451\n",
      "Epoch 22/50\n",
      "\u001B[1m2/2\u001B[0m \u001B[32m━━━━━━━━━━━━━━━━━━━━\u001B[0m\u001B[37m\u001B[0m \u001B[1m0s\u001B[0m 15ms/step - loss: 0.0380 - val_loss: 0.0451\n",
      "Epoch 23/50\n",
      "\u001B[1m2/2\u001B[0m \u001B[32m━━━━━━━━━━━━━━━━━━━━\u001B[0m\u001B[37m\u001B[0m \u001B[1m0s\u001B[0m 17ms/step - loss: 0.0472 - val_loss: 0.0453\n",
      "Epoch 24/50\n",
      "\u001B[1m2/2\u001B[0m \u001B[32m━━━━━━━━━━━━━━━━━━━━\u001B[0m\u001B[37m\u001B[0m \u001B[1m0s\u001B[0m 15ms/step - loss: 0.0388 - val_loss: 0.0455\n",
      "Epoch 25/50\n",
      "\u001B[1m2/2\u001B[0m \u001B[32m━━━━━━━━━━━━━━━━━━━━\u001B[0m\u001B[37m\u001B[0m \u001B[1m0s\u001B[0m 17ms/step - loss: 0.0457 - val_loss: 0.0457\n",
      "Epoch 26/50\n",
      "\u001B[1m2/2\u001B[0m \u001B[32m━━━━━━━━━━━━━━━━━━━━\u001B[0m\u001B[37m\u001B[0m \u001B[1m0s\u001B[0m 15ms/step - loss: 0.0520 - val_loss: 0.0459\n",
      "Epoch 27/50\n",
      "\u001B[1m2/2\u001B[0m \u001B[32m━━━━━━━━━━━━━━━━━━━━\u001B[0m\u001B[37m\u001B[0m \u001B[1m0s\u001B[0m 15ms/step - loss: 0.0417 - val_loss: 0.0459\n",
      "Epoch 28/50\n",
      "\u001B[1m2/2\u001B[0m \u001B[32m━━━━━━━━━━━━━━━━━━━━\u001B[0m\u001B[37m\u001B[0m \u001B[1m0s\u001B[0m 15ms/step - loss: 0.0482 - val_loss: 0.0460\n",
      "Epoch 29/50\n",
      "\u001B[1m2/2\u001B[0m \u001B[32m━━━━━━━━━━━━━━━━━━━━\u001B[0m\u001B[37m\u001B[0m \u001B[1m0s\u001B[0m 17ms/step - loss: 0.0479 - val_loss: 0.0458\n",
      "Epoch 30/50\n",
      "\u001B[1m2/2\u001B[0m \u001B[32m━━━━━━━━━━━━━━━━━━━━\u001B[0m\u001B[37m\u001B[0m \u001B[1m0s\u001B[0m 16ms/step - loss: 0.0483 - val_loss: 0.0457\n",
      "Epoch 31/50\n",
      "\u001B[1m2/2\u001B[0m \u001B[32m━━━━━━━━━━━━━━━━━━━━\u001B[0m\u001B[37m\u001B[0m \u001B[1m0s\u001B[0m 16ms/step - loss: 0.0540 - val_loss: 0.0457\n",
      "Epoch 32/50\n",
      "\u001B[1m2/2\u001B[0m \u001B[32m━━━━━━━━━━━━━━━━━━━━\u001B[0m\u001B[37m\u001B[0m \u001B[1m0s\u001B[0m 16ms/step - loss: 0.0471 - val_loss: 0.0458\n",
      "Epoch 33/50\n",
      "\u001B[1m2/2\u001B[0m \u001B[32m━━━━━━━━━━━━━━━━━━━━\u001B[0m\u001B[37m\u001B[0m \u001B[1m0s\u001B[0m 16ms/step - loss: 0.0487 - val_loss: 0.0459\n",
      "Epoch 34/50\n",
      "\u001B[1m2/2\u001B[0m \u001B[32m━━━━━━━━━━━━━━━━━━━━\u001B[0m\u001B[37m\u001B[0m \u001B[1m0s\u001B[0m 16ms/step - loss: 0.0504 - val_loss: 0.0460\n",
      "Epoch 35/50\n",
      "\u001B[1m2/2\u001B[0m \u001B[32m━━━━━━━━━━━━━━━━━━━━\u001B[0m\u001B[37m\u001B[0m \u001B[1m0s\u001B[0m 17ms/step - loss: 0.0471 - val_loss: 0.0460\n",
      "Epoch 36/50\n",
      "\u001B[1m2/2\u001B[0m \u001B[32m━━━━━━━━━━━━━━━━━━━━\u001B[0m\u001B[37m\u001B[0m \u001B[1m0s\u001B[0m 15ms/step - loss: 0.0515 - val_loss: 0.0461\n",
      "Epoch 37/50\n",
      "\u001B[1m2/2\u001B[0m \u001B[32m━━━━━━━━━━━━━━━━━━━━\u001B[0m\u001B[37m\u001B[0m \u001B[1m0s\u001B[0m 17ms/step - loss: 0.0370 - val_loss: 0.0462\n",
      "Epoch 38/50\n",
      "\u001B[1m2/2\u001B[0m \u001B[32m━━━━━━━━━━━━━━━━━━━━\u001B[0m\u001B[37m\u001B[0m \u001B[1m0s\u001B[0m 15ms/step - loss: 0.0410 - val_loss: 0.0463\n",
      "Epoch 39/50\n",
      "\u001B[1m2/2\u001B[0m \u001B[32m━━━━━━━━━━━━━━━━━━━━\u001B[0m\u001B[37m\u001B[0m \u001B[1m0s\u001B[0m 23ms/step - loss: 0.0413 - val_loss: 0.0464\n",
      "Epoch 40/50\n",
      "\u001B[1m2/2\u001B[0m \u001B[32m━━━━━━━━━━━━━━━━━━━━\u001B[0m\u001B[37m\u001B[0m \u001B[1m0s\u001B[0m 17ms/step - loss: 0.0481 - val_loss: 0.0467\n",
      "Epoch 41/50\n",
      "\u001B[1m2/2\u001B[0m \u001B[32m━━━━━━━━━━━━━━━━━━━━\u001B[0m\u001B[37m\u001B[0m \u001B[1m0s\u001B[0m 17ms/step - loss: 0.0447 - val_loss: 0.0466\n",
      "Epoch 42/50\n",
      "\u001B[1m2/2\u001B[0m \u001B[32m━━━━━━━━━━━━━━━━━━━━\u001B[0m\u001B[37m\u001B[0m \u001B[1m0s\u001B[0m 16ms/step - loss: 0.0474 - val_loss: 0.0467\n",
      "Epoch 43/50\n",
      "\u001B[1m2/2\u001B[0m \u001B[32m━━━━━━━━━━━━━━━━━━━━\u001B[0m\u001B[37m\u001B[0m \u001B[1m0s\u001B[0m 16ms/step - loss: 0.0493 - val_loss: 0.0469\n",
      "Epoch 44/50\n",
      "\u001B[1m2/2\u001B[0m \u001B[32m━━━━━━━━━━━━━━━━━━━━\u001B[0m\u001B[37m\u001B[0m \u001B[1m0s\u001B[0m 15ms/step - loss: 0.0428 - val_loss: 0.0470\n",
      "Epoch 45/50\n",
      "\u001B[1m2/2\u001B[0m \u001B[32m━━━━━━━━━━━━━━━━━━━━\u001B[0m\u001B[37m\u001B[0m \u001B[1m0s\u001B[0m 16ms/step - loss: 0.0484 - val_loss: 0.0472\n",
      "Epoch 46/50\n",
      "\u001B[1m2/2\u001B[0m \u001B[32m━━━━━━━━━━━━━━━━━━━━\u001B[0m\u001B[37m\u001B[0m \u001B[1m0s\u001B[0m 16ms/step - loss: 0.0505 - val_loss: 0.0473\n",
      "Epoch 47/50\n",
      "\u001B[1m2/2\u001B[0m \u001B[32m━━━━━━━━━━━━━━━━━━━━\u001B[0m\u001B[37m\u001B[0m \u001B[1m0s\u001B[0m 16ms/step - loss: 0.0484 - val_loss: 0.0472\n",
      "Epoch 48/50\n",
      "\u001B[1m2/2\u001B[0m \u001B[32m━━━━━━━━━━━━━━━━━━━━\u001B[0m\u001B[37m\u001B[0m \u001B[1m0s\u001B[0m 17ms/step - loss: 0.0411 - val_loss: 0.0472\n",
      "Epoch 49/50\n",
      "\u001B[1m2/2\u001B[0m \u001B[32m━━━━━━━━━━━━━━━━━━━━\u001B[0m\u001B[37m\u001B[0m \u001B[1m0s\u001B[0m 16ms/step - loss: 0.0463 - val_loss: 0.0474\n",
      "Epoch 50/50\n",
      "\u001B[1m2/2\u001B[0m \u001B[32m━━━━━━━━━━━━━━━━━━━━\u001B[0m\u001B[37m\u001B[0m \u001B[1m0s\u001B[0m 16ms/step - loss: 0.0457 - val_loss: 0.0474\n"
     ]
    },
    {
     "name": "stderr",
     "output_type": "stream",
     "text": [
      "WARNING:absl:You are saving your model as an HDF5 file via `model.save()` or `keras.saving.save_model(model)`. This file format is considered legacy. We recommend using instead the native Keras format, e.g. `model.save('my_model.keras')` or `keras.saving.save_model(model, 'my_model.keras')`. \n"
     ]
    },
    {
     "name": "stdout",
     "output_type": "stream",
     "text": [
      "训练集损失: 0.04457126185297966\n",
      "测试集损失: 0.047426365315914154\n",
      "模型已保存。\n"
     ]
    }
   ],
   "execution_count": 4
  },
  {
   "metadata": {
    "ExecuteTime": {
     "end_time": "2024-11-18T11:03:09.343697Z",
     "start_time": "2024-11-18T11:03:09.139156Z"
    }
   },
   "cell_type": "code",
   "source": [
    "from tensorflow.keras.models import load_model\n",
    "\n",
    "# 加载已保存的模型\n",
    "model = load_model(\"lstm_residual_model.h5\")\n",
    "\n",
    "# 构造预测输入\n",
    "latest_residuals = residuals[-look_back:].reshape(1, look_back, 1)  # 提取最近 3 个残差\n",
    "predicted_residual = model.predict(latest_residuals)\n",
    "\n",
    "# 打印预测结果\n",
    "print(f\"神经网络预测的 2023 年残差值: {predicted_residual[0][0]}\")"
   ],
   "id": "d70dc2df5cdeaccf",
   "outputs": [
    {
     "name": "stderr",
     "output_type": "stream",
     "text": [
      "WARNING:absl:Compiled the loaded model, but the compiled metrics have yet to be built. `model.compile_metrics` will be empty until you train or evaluate the model.\n"
     ]
    },
    {
     "name": "stdout",
     "output_type": "stream",
     "text": [
      "\u001B[1m1/1\u001B[0m \u001B[32m━━━━━━━━━━━━━━━━━━━━\u001B[0m\u001B[37m\u001B[0m \u001B[1m0s\u001B[0m 133ms/step\n",
      "神经网络预测的 2023 年残差值: 0.2336939424276352\n"
     ]
    }
   ],
   "execution_count": 5
  },
  {
   "metadata": {},
   "cell_type": "code",
   "outputs": [],
   "execution_count": null,
   "source": "",
   "id": "2cd4fb9f80b85fa4"
  }
 ],
 "metadata": {
  "kernelspec": {
   "display_name": "Python 3",
   "language": "python",
   "name": "python3"
  },
  "language_info": {
   "codemirror_mode": {
    "name": "ipython",
    "version": 2
   },
   "file_extension": ".py",
   "mimetype": "text/x-python",
   "name": "python",
   "nbconvert_exporter": "python",
   "pygments_lexer": "ipython2",
   "version": "2.7.6"
  }
 },
 "nbformat": 4,
 "nbformat_minor": 5
}
